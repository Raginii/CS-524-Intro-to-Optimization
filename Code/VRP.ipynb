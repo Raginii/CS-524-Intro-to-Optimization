{
 "cells": [
  {
   "cell_type": "code",
   "execution_count": 180,
   "metadata": {},
   "outputs": [],
   "source": [
    "using JuMP, PyPlot, NamedArrays"
   ]
  },
  {
   "cell_type": "code",
   "execution_count": 169,
   "metadata": {},
   "outputs": [
    {
     "data": {
      "text/plain": [
       "plot_Request_Time_Window (generic function with 1 method)"
      ]
     },
     "execution_count": 169,
     "metadata": {},
     "output_type": "execute_result"
    }
   ],
   "source": [
    "# Create a plot showing the request with the time window\n",
    "function plot_Request_Time_Window(passengers)\n",
    "    figure();\n",
    "    request_no = length(passengers)\n",
    "    drop_time_list = []\n",
    "\n",
    "    for i=1:request_no\n",
    "        p = passengers[i]\n",
    "        drop_time = p.pickup_time + p.duration\n",
    "        push!(drop_time_list, drop_time)\n",
    "        \n",
    "        # Randomly assign color to each request\n",
    "        r = hex(rand(16:255))\n",
    "        g = hex(rand(16:255))\n",
    "        b = hex(rand(16:255))\n",
    "        color_val = string(\"#\", r, g, b)\n",
    "        \n",
    "        hlines(y=i, xmin=p.pickup_time, xmax=drop_time, color=color_val)\n",
    "        plot(p.pickup_time, i, marker=\"o\", color=color_val)\n",
    "        plot(drop_time, i, marker=\"o\", color=color_val)\n",
    "        \n",
    "        time_stamp = string(\"T = \", p.pickup_time)\n",
    "        text(p.pickup_time, i + 0.1, time_stamp, fontsize=8)\n",
    "        time_stamp = string(\"T = \", drop_time)\n",
    "        text(drop_time, i - 0.2, time_stamp, fontsize=8) \n",
    "    end\n",
    "\n",
    "    PyPlot.yticks(1:request_no)\n",
    "    ax = gca()\n",
    "    ax[:set_xlim](passengers[1].pickup_time - 10, maximum(drop_time_list) + 20)\n",
    "    ax[:set_ylim]([0, request_no + 1])\n",
    "    title(\"Request vs Time\")\n",
    "    xlabel(\"Time\")\n",
    "    ylabel(\"Request #\")\n",
    "    grid(\"on\")\n",
    "end"
   ]
  },
  {
   "cell_type": "code",
   "execution_count": 170,
   "metadata": {},
   "outputs": [
    {
     "data": {
      "text/plain": [
       "rand_normalized_xy (generic function with 1 method)"
      ]
     },
     "execution_count": 170,
     "metadata": {},
     "output_type": "execute_result"
    }
   ],
   "source": [
    "using PyPlot\n",
    "WIDTH = 51 # odd number\n",
    "HEIGHT = 41 # odd number\n",
    "NRG = min(WIDTH, HEIGHT)\n",
    "\n",
    "type Passenger\n",
    "    pickup_pos::Tuple{Int64, Int64}\n",
    "    pickup_time::Int\n",
    "    dropoff_pos::Tuple{Int64, Int64}\n",
    "    duration::Int\n",
    "end\n",
    "type Driver\n",
    "    cur_pos::Tuple{Int64, Int64}\n",
    "end\n",
    "\n",
    "function manhattan_distance(a, b)\n",
    "    return sum(abs.([i for i in a]-[i for i in b]))\n",
    "end\n",
    "\n",
    "function rand_xy()\n",
    "   return (rand(1:WIDTH), rand(1:HEIGHT)) \n",
    "end\n",
    "\n",
    "\n",
    "function rand_normalized_xy()\n",
    "    pass_x = Int(round((randn()/6+0.5)*(NRG-1)+1))\n",
    "    pass_y = Int(round((randn()/6+0.5)*(NRG-1)+1))\n",
    "    if WIDTH > HEIGHT\n",
    "        pass_x += Int(round((WIDTH-HEIGHT)/2))\n",
    "    else\n",
    "        pass_y += Int(round((HEIGHT-WIDTH)/2))\n",
    "    end\n",
    "    return (pass_x, pass_y)\n",
    "end\n"
   ]
  },
  {
   "cell_type": "code",
   "execution_count": 181,
   "metadata": {},
   "outputs": [
    {
     "data": {
      "text/plain": [
       "plot_passenger_driver (generic function with 1 method)"
      ]
     },
     "execution_count": 181,
     "metadata": {},
     "output_type": "execute_result"
    }
   ],
   "source": [
    "function plot_passenger_driver(passengers, drivers)\n",
    "    ppxs = Int64[] # passenger pickup position x\n",
    "    ppys = Int64[] # passenger pickup position y\n",
    "    pdxs = Int64[] # passenger dropoff position x\n",
    "    pdys = Int64[] # passenger dropoff position y\n",
    "    dxs = Int64[] # driver current position x\n",
    "    dys = Int64[] # driver current position y\n",
    "    fig = figure(\"pyplot_scatterplot\",figsize=(15,15*(HEIGHT/WIDTH)))\n",
    "    ax = axes()\n",
    "    for i=1:length(passengers)\n",
    "        p = passengers[i]\n",
    "        annotate(i, xy=[a for a in p.pickup_pos]-0.3)\n",
    "        annotate(i, xy=[a for a in p.dropoff_pos]-0.3)\n",
    "        push!(ppxs, p.pickup_pos[1])\n",
    "        push!(ppys, p.pickup_pos[2])\n",
    "        push!(pdxs, p.dropoff_pos[1])\n",
    "        push!(pdys, p.dropoff_pos[2])\n",
    "    end\n",
    "    for i=1:length(drivers)\n",
    "        d = drivers[i]\n",
    "        push!(dxs, d.cur_pos[1])\n",
    "        push!(dys, d.cur_pos[2])\n",
    "    end\n",
    "    scatter(ppxs,ppys,s=300,alpha=0.5,color=\"r\")\n",
    "    scatter(pdxs,pdys,s=300,alpha=0.5,color=\"g\")\n",
    "    scatter(dxs,dys,s=300,alpha=0.5,color=\"b\")\n",
    "    \n",
    "    title(\"Map\")\n",
    "    xlabel(\"X\");xlim([1,WIDTH])\n",
    "    ylabel(\"Y\");ylim([1,HEIGHT])\n",
    "    grid(\"on\")\n",
    "end\n"
   ]
  },
  {
   "cell_type": "code",
   "execution_count": 182,
   "metadata": {},
   "outputs": [
    {
     "data": {
      "text/plain": [
       "genGrid (generic function with 1 method)"
      ]
     },
     "execution_count": 182,
     "metadata": {},
     "output_type": "execute_result"
    }
   ],
   "source": [
    "function genGrid(n_passenger, n_driver)\n",
    "    passengers = Passenger[]\n",
    "    drivers = Driver[]\n",
    "    ptime = sort(rand(50:200,n_passenger))  #############################################################\n",
    "    for i=1:n_passenger\n",
    "        ppos = rand_xy()\n",
    "        dpos = rand_xy()\n",
    "        p = Passenger(ppos, ptime[i], dpos, manhattan_distance(ppos,dpos))\n",
    "        push!(passengers, p)\n",
    "    end\n",
    "    for i=1:n_driver\n",
    "        d = Driver((Int((WIDTH+1)/2), Int((HEIGHT+1)/2)))\n",
    "        push!(drivers, d)\n",
    "    end\n",
    "    plot_passenger_driver(passengers, drivers)\n",
    "    for p in passengers\n",
    "        println(p)\n",
    "    end\n",
    "    #plot_Request_Time_Window(passengers)   ############## Modifying this to be called after distance matrix is computed.\n",
    "    return passengers,drivers\n",
    "end"
   ]
  },
  {
   "cell_type": "code",
   "execution_count": null,
   "metadata": {},
   "outputs": [],
   "source": []
  },
  {
   "cell_type": "code",
   "execution_count": 183,
   "metadata": {},
   "outputs": [
    {
     "data": {
      "text/plain": [
       "get_locations (generic function with 1 method)"
      ]
     },
     "execution_count": 183,
     "metadata": {},
     "output_type": "execute_result"
    }
   ],
   "source": [
    "# Function to Get the coordinates of all depot and pickup, drop locations of requests (in order of request)\n",
    "# Can be modified to be called within distance matrix\n",
    "\n",
    "function get_locations(depot, requests)\n",
    "    nodes = []\n",
    "    for d in depot             # Right now, considering only single depot.\n",
    "        depot_node = d.cur_pos\n",
    "        push!(nodes, depot_node)\n",
    "    end\n",
    "\n",
    "    for r in requests\n",
    "        push!(nodes, r.pickup_pos)\n",
    "        push!(nodes, r.dropoff_pos)\n",
    "    end\n",
    "    return nodes\n",
    "end"
   ]
  },
  {
   "cell_type": "code",
   "execution_count": 184,
   "metadata": {},
   "outputs": [
    {
     "data": {
      "text/plain": [
       "distance_matrix (generic function with 1 method)"
      ]
     },
     "execution_count": 184,
     "metadata": {},
     "output_type": "execute_result"
    }
   ],
   "source": [
    "# Generating distance matrix.\n",
    " \n",
    "function distance_matrix(nodes, numReq)\n",
    "    \n",
    "    # Creating names for nodes\n",
    "    numReq = length(requests)\n",
    "    points = []\n",
    "    i = 0\n",
    "    push!(points,\"Depot\")\n",
    "    for r in 1:numReq\n",
    "        i = i+1\n",
    "        pickup = string(\"P_\",i)\n",
    "        drop = string(\"D_\",i)\n",
    "        push!(points,pickup)\n",
    "        push!(points,drop)\n",
    "    end\n",
    "    println(points)\n",
    "\n",
    "    # Compute distance matrix for the Agencies\n",
    "    pointA = nodes\n",
    "    pointB = copy(nodes)\n",
    "\n",
    "    nodeLen = length(nodes) # nodes include pickup, dropoff and depot\n",
    "\n",
    "    D = zeros(nodeLen,nodeLen)\n",
    "\n",
    "    for j = 1:nodeLen\n",
    "            for i = 1:nodeLen\n",
    "                D[i, j] = abs(pointA[j][1] - pointB[i][1]) + abs(pointA[j][2] - pointB[i][2])\n",
    "            end\n",
    "    end\n",
    "    #println(\"Distance matrix : \",D)\n",
    "    println(\"\")\n",
    "\n",
    "    dist_matrix =  NamedArray(D,(points,points),(\"From\",\"To\"))\n",
    "    show(IOContext(STDOUT, displaysize=(2000, 2000)), dist_matrix)\n",
    "    \n",
    "    println(\"\\n\")\n",
    "    return dist_matrix\n",
    "end"
   ]
  },
  {
   "cell_type": "code",
   "execution_count": 189,
   "metadata": {},
   "outputs": [
    {
     "data": {
      "text/plain": [
       "assign_pickup_time (generic function with 1 method)"
      ]
     },
     "execution_count": 189,
     "metadata": {},
     "output_type": "execute_result"
    }
   ],
   "source": [
    "# Function to assign random request times for each request\n",
    "\n",
    "function assign_pickup_time(startT, requests)\n",
    "    endT = startT + 200\n",
    "    ptime = sort(rand(startT:endT, length(requests)))\n",
    "    #println(ptime)\n",
    "    k = 1\n",
    "    for r in requests\n",
    "        r.pickup_time = ptime[k]\n",
    "        k = k + 1\n",
    "    end\n",
    "    return requests\n",
    "end"
   ]
  },
  {
   "cell_type": "markdown",
   "metadata": {},
   "source": [
    "#   Start here calling functions : "
   ]
  },
  {
   "cell_type": "code",
   "execution_count": 190,
   "metadata": {},
   "outputs": [
    {
     "data": {
      "image/png": "[encoded data removed]",
      "text/plain": [
       "PyPlot.Figure(PyObject <matplotlib.figure.Figure object at 0x00000000068D3B00>)"
      ]
     },
     "metadata": {},
     "output_type": "display_data"
    },
    {
     "name": "stdout",
     "output_type": "stream",
     "text": [
      "Passenger((41, 4), 138, (5, 22), 54)\n",
      "Passenger((33, 27), 150, (50, 18), 26)\n",
      "Passenger((28, 5), 156, (11, 29), 41)\n",
      "Passenger((39, 28), 164, (16, 29), 24)\n",
      "Passenger((36, 29), 186, (26, 35), 16)\n"
     ]
    }
   ],
   "source": [
    "# Generate all input data\n",
    "requests, depot = genGrid(5,1)\n",
    ";"
   ]
  },
  {
   "cell_type": "code",
   "execution_count": 192,
   "metadata": {},
   "outputs": [
    {
     "data": {
      "image/png": "[encoded data removed]",
      "text/plain": [
       "PyPlot.Figure(PyObject <matplotlib.figure.Figure object at 0x00000000067D8518>)"
      ]
     },
     "metadata": {},
     "output_type": "display_data"
    },
    {
     "name": "stdout",
     "output_type": "stream",
     "text": [
      "Any[\"Depot\", \"P_1\", \"D_1\", \"P_2\", \"D_2\", \"P_3\", \"D_3\", \"P_4\", \"D_4\", \"P_5\", \"D_5\"]\n",
      "\n",
      "11×11 Named Array{Float64,2}\n",
      "From ╲ To │ Depot    P_1    D_1    P_2    D_2    P_3    D_3    P_4    D_4    P_5    D_5\n",
      "──────────┼────────────────────────────────────────────────────────────────────────────\n",
      "Depot     │   0.0   32.0   22.0   13.0   27.0   18.0   23.0   20.0   18.0   18.0   14.0\n",
      "P_1       │  32.0    0.0   54.0   31.0   23.0   14.0   55.0   26.0   50.0   30.0   46.0\n",
      "D_1       │  22.0   54.0    0.0   33.0   49.0   40.0   13.0   40.0   18.0   38.0   34.0\n",
      "P_2       │  13.0   31.0   33.0    0.0   26.0   27.0   24.0    7.0   19.0    5.0   15.0\n",
      "D_2       │  27.0   23.0   49.0   26.0    0.0   35.0   50.0   21.0   45.0   25.0   41.0\n",
      "P_3       │  18.0   14.0   40.0   27.0   35.0    0.0   41.0   34.0   36.0   32.0   32.0\n",
      "D_3       │  23.0   55.0   13.0   24.0   50.0   41.0    0.0   29.0    5.0   25.0   21.0\n",
      "P_4       │  20.0   26.0   40.0    7.0   21.0   34.0   29.0    0.0   24.0    4.0   20.0\n",
      "D_4       │  18.0   50.0   18.0   19.0   45.0   36.0    5.0   24.0    0.0   20.0   16.0\n",
      "P_5       │  18.0   30.0   38.0    5.0   25.0   32.0   25.0    4.0   20.0    0.0   16.0\n",
      "D_5       │  14.0   46.0   34.0   15.0   41.0   32.0   21.0   20.0   16.0   16.0    0.0\n",
      "\n"
     ]
    }
   ],
   "source": [
    "# Get Location coordinates.\n",
    "nodes = get_locations(depot, requests)\n",
    "\n",
    "# Compute distance matrix\n",
    "dist_matrix = distance_matrix(nodes, length(requests))\n",
    "\n",
    "# Find max distance from the depot to a pickup and use it as the reference time to start the TimeSlots for requests\n",
    "maxDistFromDepot = maximum(dist_matrix)\n",
    "\n",
    "# Now, assign random time slots beginning from maxDistFromDepot to all requests.\n",
    "requests = assign_pickup_time(maxDistFromDepot, requests)\n",
    "\n",
    "plot_Request_Time_Window(requests)   # Calling this function here coz of modified slots."
   ]
  }
 ],
 "metadata": {
  "kernelspec": {
   "display_name": "Julia 0.6.2",
   "language": "julia",
   "name": "julia-0.6"
  },
  "language_info": {
   "file_extension": ".jl",
   "mimetype": "application/julia",
   "name": "julia",
   "version": "0.6.2"
  }
 },
 "nbformat": 4,
 "nbformat_minor": 2
}
