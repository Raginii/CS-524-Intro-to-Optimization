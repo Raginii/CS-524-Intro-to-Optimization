{
 "cells": [
  {
   "cell_type": "code",
   "execution_count": 1,
   "metadata": {},
   "outputs": [],
   "source": [
    "using JuMP, NamedArrays, PyPlot"
   ]
  },
  {
   "cell_type": "code",
   "execution_count": 2,
   "metadata": {},
   "outputs": [],
   "source": [
    "WIDTH = 51 # odd number\n",
    "HEIGHT = 41 # odd number\n",
    "NRG = min(WIDTH, HEIGHT)\n",
    "\n",
    "type Request\n",
    "    pickup_pos::Tuple{Int64, Int64}\n",
    "    pickup_time::Int\n",
    "    dropoff_pos::Tuple{Int64, Int64}\n",
    "    duration::Int\n",
    "end\n",
    "\n",
    "type Depot\n",
    "    cur_pos::Tuple{Int64, Int64}\n",
    "end"
   ]
  },
  {
   "cell_type": "code",
   "execution_count": 3,
   "metadata": {},
   "outputs": [
    {
     "data": {
      "text/plain": [
       "rand_uniform_xy (generic function with 1 method)"
      ]
     },
     "execution_count": 3,
     "metadata": {},
     "output_type": "execute_result"
    }
   ],
   "source": [
    "function manhattan_distance(a, b)\n",
    "    return sum(abs.([i for i in a]-[i for i in b]))\n",
    "end\n",
    "\n",
    "function rand_xy()\n",
    "   return (rand(1:WIDTH), rand(1:HEIGHT)) \n",
    "end\n",
    "\n",
    "\n",
    "function rand_uniform_xy()\n",
    "    pass_x = Int(round((randn()/6+0.5)*(NRG-1)+1))\n",
    "    pass_y = Int(round((randn()/6+0.5)*(NRG-1)+1))\n",
    "    if WIDTH > HEIGHT\n",
    "        pass_x += Int(round((WIDTH-HEIGHT)/2))\n",
    "    else\n",
    "        pass_y += Int(round((HEIGHT-WIDTH)/2))\n",
    "    end\n",
    "    return (pass_x, pass_y)\n",
    "end"
   ]
  },
  {
   "cell_type": "code",
   "execution_count": 4,
   "metadata": {},
   "outputs": [
    {
     "data": {
      "text/plain": [
       "genGrid (generic function with 1 method)"
      ]
     },
     "execution_count": 4,
     "metadata": {},
     "output_type": "execute_result"
    }
   ],
   "source": [
    "function genGrid(n_req, n_depot)\n",
    "    requests = Request[]\n",
    "    depot = Depot[]\n",
    "    ptime = sort(rand(50:500,n_req))\n",
    "    for i=1:n_req\n",
    "        ppos = rand_xy()\n",
    "        dpos = rand_xy()\n",
    "        p = Request(ppos, ptime[i], dpos, manhattan_distance(ppos,dpos))\n",
    "        push!(requests, p)\n",
    "    end\n",
    "    for i=1:n_depot\n",
    "        d = Depot((Int((WIDTH+1)/2), Int((HEIGHT+1)/2)))\n",
    "        push!(depot, d)\n",
    "    end\n",
    "    plot_request_depot(requests, depot)   #### Function call to plot \n",
    "    for p in requests\n",
    "        println(p)\n",
    "    end\n",
    "    return requests,depot\n",
    "end"
   ]
  },
  {
   "cell_type": "code",
   "execution_count": 5,
   "metadata": {},
   "outputs": [
    {
     "data": {
      "text/plain": [
       "plot_request_depot (generic function with 1 method)"
      ]
     },
     "execution_count": 5,
     "metadata": {},
     "output_type": "execute_result"
    }
   ],
   "source": [
    "function plot_request_depot(requests, depot)\n",
    "    ppxs = Int64[] # passenger pickup position x\n",
    "    ppys = Int64[] # passenger pickup position y\n",
    "    pdxs = Int64[] # passenger dropoff position x\n",
    "    pdys = Int64[] # passenger dropoff position y\n",
    "    dxs = Int64[]  # depot position x\n",
    "    dys = Int64[]  # depot position y\n",
    "    fig = figure(\"pyplot_scatterplot\",figsize=(15,15*(HEIGHT/WIDTH)))\n",
    "    ax = axes()\n",
    "    for i=1:length(requests)\n",
    "        p = requests[i]\n",
    "        annotate(i, xy=[a for a in p.pickup_pos]-0.2,fontweight=\"bold\",fontsize=12)\n",
    "        annotate(i, xy=[a for a in p.dropoff_pos]-0.2,fontweight=\"bold\",fontsize=12)\n",
    "        push!(ppxs, p.pickup_pos[1])\n",
    "        push!(ppys, p.pickup_pos[2])\n",
    "        push!(pdxs, p.dropoff_pos[1])\n",
    "        push!(pdys, p.dropoff_pos[2])\n",
    "    end\n",
    "    for i=1:length(depot)\n",
    "        d = depot[i]\n",
    "        annotate(\"Depot\", xy=[a for a in d.cur_pos]-0.5,fontweight=\"bold\",fontsize=11)\n",
    "        push!(dxs, d.cur_pos[1])\n",
    "        push!(dys, d.cur_pos[2])\n",
    "    end\n",
    "    scatter(ppxs,ppys,s=300,alpha=0.5,color=\"g\", marker=\"D\")\n",
    "    scatter(pdxs,pdys,s=300,alpha=0.5,color=\"r\", marker = \"X\")\n",
    "    scatter(dxs,dys,s=1000,alpha=0.5,color=\"b\", marker = \"s\")\n",
    "    title(\"Map\")\n",
    "    xlabel(\"X\")\n",
    "    #xlim([1,WIDTH])\n",
    "    ylabel(\"Y\")\n",
    "    #ylim([1,HEIGHT])\n",
    "    grid(\"on\")\n",
    "end\n"
   ]
  },
  {
   "cell_type": "code",
   "execution_count": 6,
   "metadata": {},
   "outputs": [
    {
     "data": {
      "text/plain": [
       "plot_Request_Time_Window (generic function with 1 method)"
      ]
     },
     "execution_count": 6,
     "metadata": {},
     "output_type": "execute_result"
    }
   ],
   "source": [
    "# Create a plot showing the request with the time window\n",
    "\n",
    "function plot_Request_Time_Window(requests)\n",
    "    \n",
    "    figure(figsize=(10,10));\n",
    "    request_no = length(requests)\n",
    "    drop_time_list = []\n",
    "\n",
    "    for i=1:request_no\n",
    "        p = requests[i]\n",
    "        drop_time = p.pickup_time+p.duration\n",
    "        push!(drop_time_list, drop_time)\n",
    "        \n",
    "        # Randomly assign color to each request\n",
    "        r = hex(rand(16:255))\n",
    "        g = hex(rand(16:255))\n",
    "        b = hex(rand(16:255))\n",
    "        color_val = string(\"#\", r, g, b)\n",
    "        \n",
    "        hlines(y=i, xmin=p.pickup_time, xmax=drop_time, color=color_val,lw=3)\n",
    "        plot(p.pickup_time, i, marker=\"o\", color=color_val)\n",
    "        plot(drop_time, i, marker=\"o\", color=color_val)\n",
    "        \n",
    "        time_stamp = string(\"T = \", p.pickup_time)\n",
    "        text(p.pickup_time, i + 0.1, time_stamp, fontsize=10,fontweight=\"bold\")\n",
    "        time_stamp = string(\"T = \", drop_time)\n",
    "        text(drop_time, i - 0.2, time_stamp, fontsize=10,fontweight=\"bold\") \n",
    "    end\n",
    "\n",
    "    PyPlot.yticks(1:request_no)\n",
    "    ax = gca()\n",
    "    ax[:set_xlim](requests[1].pickup_time - 10, maximum(drop_time_list) + 20)\n",
    "    ax[:set_ylim]([0, request_no + 1])\n",
    "    title(\"Request vs Time\")\n",
    "    xlabel(\"Time\")\n",
    "    ylabel(\"Request #\")\n",
    "    grid(\"on\")\n",
    "end"
   ]
  },
  {
   "cell_type": "code",
   "execution_count": 7,
   "metadata": {},
   "outputs": [
    {
     "data": {
      "text/plain": [
       "getLocations (generic function with 1 method)"
      ]
     },
     "execution_count": 7,
     "metadata": {},
     "output_type": "execute_result"
    }
   ],
   "source": [
    "# Function to Get the coordinates of all depot and pickup, drop locations of requests (in order of request)\n",
    "# Can be modified to be called within distance matrix\n",
    "\n",
    "function getLocations(depot, requests)\n",
    "    nodes = []\n",
    "    for d in depot             # Right now, considering only single depot.\n",
    "        depot_node = d.cur_pos\n",
    "        push!(nodes, depot_node)\n",
    "    end\n",
    "\n",
    "    for r in requests\n",
    "        push!(nodes, r.pickup_pos)\n",
    "        push!(nodes, r.dropoff_pos)\n",
    "    end\n",
    "    return nodes\n",
    "end"
   ]
  },
  {
   "cell_type": "code",
   "execution_count": 8,
   "metadata": {},
   "outputs": [
    {
     "data": {
      "text/plain": [
       "distance_matrix (generic function with 1 method)"
      ]
     },
     "execution_count": 8,
     "metadata": {},
     "output_type": "execute_result"
    }
   ],
   "source": [
    "# Generating distance matrix.\n",
    " \n",
    "function distance_matrix(nodes, numReq)\n",
    "    \n",
    "    # Creating names for nodes\n",
    "    numReq = length(requests)\n",
    "    points = []\n",
    "    i = 0\n",
    "    push!(points,\"Depot\")\n",
    "    for r in 1:numReq\n",
    "        i = i+1\n",
    "        pickup = string(\"P_\",i)\n",
    "        drop = string(\"D_\",i)\n",
    "        push!(points,pickup)\n",
    "        push!(points,drop)\n",
    "    end\n",
    "    println(points)\n",
    "\n",
    "    # Compute distance matrix for the Agencies\n",
    "    pointA = nodes\n",
    "    pointB = copy(nodes)\n",
    "\n",
    "    nodeLen = length(nodes) # nodes include pickup, dropoff and depot\n",
    "\n",
    "    D = zeros(nodeLen,nodeLen)\n",
    "\n",
    "    for j = 1:nodeLen\n",
    "            for i = 1:nodeLen\n",
    "                D[i, j] = abs(pointA[j][1] - pointB[i][1]) + abs(pointA[j][2] - pointB[i][2])\n",
    "            end\n",
    "    end\n",
    "    #println(\"Distance matrix : \",D)\n",
    "    println(\"\")\n",
    "\n",
    "    dist_matrix =  NamedArray(D,(points,points),(\"From\",\"To\"))\n",
    "    #show(IOContext(STDOUT, displaysize=(2000, 2000)), dist_matrix)\n",
    "    #points\n",
    "    return dist_matrix\n",
    "end"
   ]
  },
  {
   "cell_type": "code",
   "execution_count": 9,
   "metadata": {},
   "outputs": [
    {
     "data": {
      "text/plain": [
       "assign_pickup_time (generic function with 1 method)"
      ]
     },
     "execution_count": 9,
     "metadata": {},
     "output_type": "execute_result"
    }
   ],
   "source": [
    "# Function to assign random request times for each request\n",
    "\n",
    "function assign_pickup_time(startT, requests)\n",
    "    endT = startT + 200 +  10*length(requests)\n",
    "    ptime = sort(rand(startT:endT, length(requests)))\n",
    "    #println(ptime)\n",
    "    k = 1\n",
    "    for r in requests\n",
    "        r.pickup_time = ptime[k]\n",
    "        k = k + 1\n",
    "    end\n",
    "    return requests\n",
    "end"
   ]
  },
  {
   "cell_type": "code",
   "execution_count": 110,
   "metadata": {},
   "outputs": [
    {
     "data": {
      "text/plain": [
       "plot_car_route (generic function with 1 method)"
      ]
     },
     "execution_count": 110,
     "metadata": {},
     "output_type": "execute_result"
    }
   ],
   "source": [
    "function plot_car_route(requests, depot, mask)    \n",
    "    \n",
    "    ppxs = Int64[] # passenger pickup position x\n",
    "    ppys = Int64[] # passenger pickup position y\n",
    "    pdxs = Int64[] # passenger dropoff position x\n",
    "    pdys = Int64[] # passenger dropoff position y\n",
    "    dxs = Int64[]  # depot position x\n",
    "    dys = Int64[]  # depot position y\n",
    "    fig = figure(\"pyplot_scatterplot\",figsize=(15,15*(HEIGHT/WIDTH)))\n",
    "    ax = axes()\n",
    "    for i=1:length(requests)\n",
    "        p = requests[i]\n",
    "        annotate(i, xy=[a for a in p.pickup_pos]-0.2,fontweight=\"bold\",fontsize=12)\n",
    "        annotate(i, xy=[a for a in p.dropoff_pos]-0.2,fontweight=\"bold\",fontsize=12)\n",
    "        push!(ppxs, p.pickup_pos[1])\n",
    "        push!(ppys, p.pickup_pos[2])\n",
    "        push!(pdxs, p.dropoff_pos[1])\n",
    "        push!(pdys, p.dropoff_pos[2])\n",
    "    end\n",
    "    for i=1:length(depot)\n",
    "        d = depot[i]\n",
    "        annotate(\"Depot\", xy=[a for a in d.cur_pos]-0.5,fontweight=\"bold\",fontsize=11)\n",
    "        push!(dxs, d.cur_pos[1])\n",
    "        push!(dys, d.cur_pos[2])\n",
    "    end\n",
    "    \n",
    "    scatter(ppxs,ppys,s=300,alpha=0.5,color=\"g\", marker=\"D\")\n",
    "    scatter(pdxs,pdys,s=300,alpha=0.5,color=\"r\", marker = \"X\")\n",
    "    scatter(dxs,dys,s=1000,alpha=0.5,color=\"b\", marker = \"s\")\n",
    "    \n",
    "    # Plot route line for each cab\n",
    "    for k = 1:K\n",
    "        # Randomly assign color to each request\n",
    "        r = hex(rand(16:255))\n",
    "        g = hex(rand(16:255))\n",
    "        b = hex(rand(16:255))\n",
    "        color_val = string(\"#\", r, g, b)\n",
    "        \n",
    "        \n",
    "        for p = 1:2R+1\n",
    "            for d = 1:2R+1\n",
    "\n",
    "                if mask[p, d, k] > 0\n",
    "                    if p+1 == d && p%2 == 0\n",
    "                        request = requests[Int8(round(p/2))]\n",
    "\n",
    "                        pp_x = request.pickup_pos[1]\n",
    "                        pp_y = request.pickup_pos[2]\n",
    "                        dp_x = request.dropoff_pos[1]\n",
    "                        dp_y = request.dropoff_pos[2]\n",
    "                        \n",
    "                        hlines(y=pp_y, xmin=pp_x, xmax=dp_x, color=color_val, lw=5)\n",
    "                        vlines(x=dp_x, ymin=pp_y, ymax=dp_y, color=color_val, lw=5)\n",
    "                    else\n",
    "                        if p == 1 # from depot\n",
    "                            end_between_req = requests[Int8(round(d/2))]\n",
    "\n",
    "                            pp_x = depot[1].cur_pos[1]\n",
    "                            pp_y = depot[1].cur_pos[2]\n",
    "                            dp_x = end_between_req.pickup_pos[1]\n",
    "                            dp_y = end_between_req.pickup_pos[2]\n",
    "                            \n",
    "                            x_min = minimum([pp_x, dp_x])\n",
    "                            x_max = maximum([pp_x, dp_x])\n",
    "                            x_range = x_min:x_max; y_range = pp_y*ones(length(x_range))\n",
    "                            plot(x_range, y_range, color=color_val, linestyle=\"--\", linewidth = 1)\n",
    "\n",
    "                            y_min = minimum([pp_y, dp_y])\n",
    "                            y_max = maximum([pp_y, dp_y])\n",
    "                            y_range = y_min:y_max; x_range = dp_x*ones(length(y_range))\n",
    "                            plot(x_range, y_range, color=color_val, linestyle=\"--\", linewidth = 1)\n",
    "                        elseif d == 1 # from depot\n",
    "                            start_between_req = requests[Int8(round((p-1)/2))]\n",
    "\n",
    "                            pp_x = start_between_req.dropoff_pos[1]\n",
    "                            pp_y = start_between_req.dropoff_pos[2]   \n",
    "                            dp_x = depot[1].cur_pos[1]\n",
    "                            dp_y = depot[1].cur_pos[2]\n",
    "                            \n",
    "                            x_min = minimum([pp_x, dp_x])\n",
    "                            x_max = maximum([pp_x, dp_x])\n",
    "                            x_range = x_min:x_max; y_range = pp_y*ones(length(x_range))\n",
    "                            plot(x_range, y_range, color=color_val, linestyle=\"--\", linewidth = 1)\n",
    "\n",
    "                            y_min = minimum([pp_y, dp_y])\n",
    "                            y_max = maximum([pp_y, dp_y])\n",
    "                            y_range = y_min:y_max; x_range = dp_x*ones(length(y_range))\n",
    "                            plot(x_range, y_range, color=color_val, linestyle=\"--\", linewidth = 1)                            \n",
    "                        else # between requests\n",
    "                            start_between_req = requests[Int8(round((p-1)/2))]\n",
    "                            end_between_req = requests[Int8(round(d/2))]\n",
    "\n",
    "                            pp_x = start_between_req.dropoff_pos[1]\n",
    "                            pp_y = start_between_req.dropoff_pos[2]   \n",
    "                            dp_x = end_between_req.pickup_pos[1]\n",
    "                            dp_y = end_between_req.pickup_pos[2]\n",
    "                            \n",
    "                            x_min = minimum([pp_x, dp_x])\n",
    "                            x_max = maximum([pp_x, dp_x])\n",
    "                            x_range = x_min:x_max; y_range = pp_y*ones(length(x_range))\n",
    "                            plot(x_range, y_range, color=color_val, linestyle=\"--\", linewidth = 3)\n",
    "\n",
    "                            y_min = minimum([pp_y, dp_y])\n",
    "                            y_max = maximum([pp_y, dp_y])\n",
    "                            y_range = y_min:y_max; x_range = dp_x*ones(length(y_range))\n",
    "                            plot(x_range, y_range, color=color_val, linestyle=\"--\", linewidth = 3)\n",
    "                        end\n",
    "                    end\n",
    "                    \n",
    "                    time_stamp = string(\"[Cab #\", k, \"]\")\n",
    "                    if dp_y > pp_y\n",
    "                        plot(dp_x, dp_y, marker=\"^\", color=color_val, markersize = 18)\n",
    "                        text(dp_x+.5, dp_y+.5, time_stamp, fontsize=16, color=color_val,style = \"italic\")\n",
    "                    elseif dp_y < pp_y\n",
    "                        plot(dp_x, dp_y, marker=\"v\", color=color_val, markersize = 18)\n",
    "                        text(dp_x+.5, dp_y+.5, time_stamp, fontsize=16, color=color_val,style = \"italic\")\n",
    "                    elseif dp_y == pp_y && dp_x < pp_x\n",
    "                        plot(dp_x, dp_y, marker=\"<\", color=color_val, markersize = 18)\n",
    "                        text(dp_x+.5, dp_y+.5, time_stamp, fontsize=16, color=color_val,style = \"italic\")\n",
    "                    elseif dp_y == pp_y && dp_x > pp_x\n",
    "                        plot(dp_x, dp_y, marker=\">\", color=color_val, markersize = 18)\n",
    "                        text(dp_x+.5, dp_y+.5, time_stamp, fontsize=16, color=color_val,style = \"italic\")\n",
    "                    end\n",
    "                end\n",
    "                \n",
    "            end\n",
    "        end\n",
    "    end\n",
    "    \n",
    "    title(\"Map\")\n",
    "    xlabel(\"X\");#xlim([1,WIDTH])\n",
    "    ylabel(\"Y\");#ylim([1,HEIGHT])\n",
    "    grid(\"on\")\n",
    "end"
   ]
  },
  {
   "cell_type": "markdown",
   "metadata": {},
   "source": [
    "# VRP Model Test\n",
    "\n",
    "# Start calling functions here :"
   ]
  },
  {
   "cell_type": "code",
   "execution_count": 164,
   "metadata": {
    "scrolled": false
   },
   "outputs": [
    {
     "name": "stdout",
     "output_type": "stream",
     "text": [
      "Request((42, 32), 113, (32, 8), 34)\n",
      "Request((14, 10), 126, (37, 4), 29)\n",
      "Request((36, 40), 176, (20, 29), 27)\n",
      "Any[\"Depot\", \"P_1\", \"D_1\", \"P_2\", \"D_2\", \"P_3\", \"D_3\"]\n",
      "\n"
     ]
    },
    {
     "data": {
      "image/png": "[encoded data removed]",
      "text/plain": [
       "PyPlot.Figure(PyObject <matplotlib.figure.Figure object at 0x1378fa350>)"
      ]
     },
     "metadata": {},
     "output_type": "display_data"
    },
    {
     "data": {
      "image/png": "[encoded data removed]",
      "text/plain": [
       "PyPlot.Figure(PyObject <matplotlib.figure.Figure object at 0x13f03cbd0>)"
      ]
     },
     "metadata": {},
     "output_type": "display_data"
    },
    {
     "name": "stdout",
     "output_type": "stream",
     "text": [
      "\n",
      "Request((42, 32), 114, (32, 8), 34)\n",
      "Request((14, 10), 179, (37, 4), 29)\n",
      "Request((36, 40), 228, (20, 29), 27)\n",
      "\n",
      "pickup time = Any[114, 179, 228]\n",
      "pickup location = Any[(42, 32), (14, 10), (36, 40)]\n",
      "dropoff time = Any[148, 208, 255]\n",
      "dropoff location = Any[(32, 8), (37, 4), (20, 29)]\n",
      "duration = Any[34, 29, 27]\n"
     ]
    }
   ],
   "source": [
    "# Parameters\n",
    "\n",
    "# Number of requests\n",
    "R = 3\n",
    "# Generate all input data\n",
    "requests, depot = genGrid(R, 1)\n",
    "\n",
    "# Get Location coordinates.\n",
    "nodes = getLocations(depot, requests)\n",
    "\n",
    "# Compute distance matrix\n",
    "dist_map = distance_matrix(nodes, length(requests));\n",
    "\n",
    "# Find max distance from the depot to a pickup and use it as the reference time to start the TimeSlots for requests\n",
    "maxDistFromDepot = maximum(dist_map[:,1])\n",
    "\n",
    "# Now, assign random time slots beginning from maxDistFromDepot to all requests.\n",
    "requests = assign_pickup_time(maxDistFromDepot, requests)\n",
    "\n",
    "plot_Request_Time_Window(requests)   # Calling this function here coz of modified slots.\n",
    "\n",
    "p_t = []\n",
    "p_l = []\n",
    "d_t = []\n",
    "d_l = []\n",
    "duration = []\n",
    "\n",
    "println(\"\")\n",
    "for r = 1:R\n",
    "    println(requests[r])\n",
    "    \n",
    "    push!(p_t, requests[r].pickup_time)\n",
    "    push!(p_l, requests[r].pickup_pos)\n",
    "    push!(d_t, requests[r].pickup_time + requests[r].duration)\n",
    "    push!(d_l, requests[r].dropoff_pos)\n",
    "    push!(duration, requests[r].duration)\n",
    "end\n",
    "\n",
    "println(\"\")\n",
    "println(\"pickup time = \", p_t)\n",
    "println(\"pickup location = \", p_l)\n",
    "println(\"dropoff time = \", d_t)\n",
    "println(\"dropoff location = \", d_l)\n",
    "println(\"duration = \", duration)\n"
   ]
  },
  {
   "cell_type": "code",
   "execution_count": 165,
   "metadata": {},
   "outputs": [
    {
     "name": "stdout",
     "output_type": "stream",
     "text": [
      "small_m = -193.0\n",
      "Big_M = 1212.0\n",
      "Academic license - for non-commercial use only\n",
      "  0.006746 seconds (559 allocations: 126.094 KiB)\n",
      "Optimal\n",
      "Optimum = 418.0\n",
      "y = [1.0, 1.0]\n",
      "x = \n",
      "[1.0, 0.0]\n",
      "[0.0, 1.0]\n",
      "[1.0, 0.0]\n",
      "mask = \n",
      "[0.0, 1.0, 0.0, 0.0, 0.0, 0.0, 0.0]\n",
      "[0.0, 0.0, 1.0, 0.0, 0.0, 0.0, 0.0]\n",
      "[0.0, 0.0, 0.0, 0.0, 0.0, 1.0, 0.0]\n",
      "[0.0, 0.0, 0.0, 0.0, 0.0, 0.0, 0.0]\n",
      "[0.0, 0.0, 0.0, 0.0, 0.0, 0.0, 0.0]\n",
      "[0.0, 0.0, 0.0, 0.0, 0.0, 0.0, 1.0]\n",
      "[1.0, 0.0, 0.0, 0.0, 0.0, 0.0, 0.0]\n",
      "\n",
      "[0.0, 0.0, 0.0, 1.0, 0.0, 0.0, 0.0]\n",
      "[0.0, 0.0, 0.0, 0.0, 0.0, 0.0, 0.0]\n",
      "[0.0, 0.0, 0.0, 0.0, 0.0, 0.0, 0.0]\n",
      "[0.0, 0.0, 0.0, 0.0, 1.0, 0.0, 0.0]\n",
      "[1.0, 0.0, 0.0, 0.0, 0.0, 0.0, 0.0]\n",
      "[0.0, 0.0, 0.0, 0.0, 0.0, 0.0, 0.0]\n",
      "[0.0, 0.0, 0.0, 0.0, 0.0, 0.0, 0.0]\n",
      "\n",
      "d = [138.0, 80.0]\n"
     ]
    }
   ],
   "source": [
    "K = 2 # Number of cabs\n",
    "small_m = minimum(p_t) - maximum(d_t) - maximum(dist_map)\n",
    "println(\"small_m = \", small_m)\n",
    "Big_M = sum(dist_map)\n",
    "println(\"Big_M = \", Big_M)\n",
    "epsilon = 1\n",
    "small_m2 = 0\n",
    "small_m3 = -1\n",
    "lambda = 100 # Weighting of the cab number\n",
    "\n",
    "using JuMP, Gurobi\n",
    "\n",
    "m = Model(solver=GurobiSolver(OutputFlag=0))\n",
    "@variable(m, y[1:K], Bin)                     # if the cab is dispatched or not\n",
    "@variable(m, x[1:R, 1:K], Bin)                # if the request is assigned to the cab or not\n",
    "@variable(m, mask[1:2R+1, 1:2R+1, 1:K], Bin)  # Given one cab, if the node p to node d is connected or not\n",
    "\n",
    " # Express the total travel distance of each cab\n",
    "@expression(m, d[k in 1:K], sum(dist_map[p, d] * mask[p, d, k] for p in 1:2R+1, d in 1:2R+1))\n",
    "\n",
    "# More variables \n",
    "@variable(m, more2[1:R, 1:R, 1:K], Bin)\n",
    "@variable(m, less2[1:R, 1:R, 1:K], Bin)\n",
    "\n",
    "# Variables to solve issue 1\n",
    "@variable(m, temp[1:R, 1:R, 1:K], Bin)\n",
    "@variable(m, temp2[1:R, 1:R, 1:K], Bin)\n",
    "\n",
    "## Variables to solve issue 2 --- Depot to pickup variables\n",
    "@variable(m, temp3[1:R, 1:K], Bin)\n",
    "@variable(m, temp4[1:R, 1:K], Bin)\n",
    "\n",
    "@expression(m, sum1[r in 1:R, k in 1:K], sum(x[i,k] for i in 1:r))\n",
    "@expression(m, sum2[r in 1:R, k in 1:K], sum(sum1[i,k] for i in 1:r))\n",
    "\n",
    "for k = 1:K \n",
    "    for r = 1:R\n",
    "        @constraint(m, sum1[r,k] - 1 <= R*temp3[r,k] - epsilon*(1-temp3[r,k])) # R is the upper bound\n",
    "        @constraint(m, sum1[r,k] - 1 >= small_m3*(1-temp3[r,k]))\n",
    "\n",
    "        @constraint(m, sum2[r,k] - 1 >= small_m3*temp4[r,k] + epsilon*(1-temp4[r,k]))\n",
    "        @constraint(m, sum2[r,k] - 1 <= R*(1-temp4[r,k]))\n",
    "    end\n",
    "    \n",
    "    for r = 1:R\n",
    "        @constraint(m, mask[1, 2*r, k] - 1 >= small_m3*(1 - temp3[r,k]*temp4[r,k]))\n",
    "    end\n",
    "end\n",
    "\n",
    "## Variables to solve issue 2 --- Dropoff variables to Depot\n",
    "@variable(m, temp5[1:R, 1:K], Bin)\n",
    "@variable(m, temp6[1:R, 1:K], Bin)\n",
    " \n",
    "@expression(m, sum3[r in 1:R, k in 1:K], sum(x[i,k] for i in r:R))\n",
    "@expression(m, sum4[r in 1:R, k in 1:K], sum(sum3[i,k] for i in r:R))\n",
    "\n",
    "for k = 1:K \n",
    "    for r = 1:R\n",
    "        @constraint(m, sum3[r,k] - 1 <= R*temp5[r,k] - epsilon*(1-temp5[r,k])) # R is the upper bound\n",
    "        @constraint(m, sum3[r,k] - 1 >= small_m3*(1-temp5[r,k]))\n",
    "\n",
    "        @constraint(m, sum4[r,k] - 1 >= small_m3*temp6[r,k] + epsilon*(1-temp6[r,k]))\n",
    "        @constraint(m, sum4[r,k] - 1 <= R*(1-temp6[r,k]))\n",
    "    end\n",
    "    \n",
    "    for r = 1:R\n",
    "        @constraint(m, mask[2*r+1, 1, k] - 1 >= small_m3*(1 - temp5[r,k]*temp6[r,k]))\n",
    "    end\n",
    "end\n",
    "\n",
    "### Constraints to solve issue 1 \n",
    "for r1 = 1:R-1\n",
    "    for r2 = (r1+1):R\n",
    "        for k = 1:K\n",
    "            @constraint(m, sum(x[r1:r2,k])-2 <= (R-2)*more2[r1, r2, k]-(1-more2[r1, r2, k]))\n",
    "            @constraint(m, sum(x[r1:r2,k])-2 >= (-2)*less2[r1, r2, k]+(1-less2[r1, r2, k]))\n",
    "        end\n",
    "    end\n",
    "end\n",
    "\n",
    "\n",
    "# Must dispatch one cab to each request\n",
    "@constraint(m, constraint1[r in 1:R], sum(x[r, k] for k =1:K) == 1)\n",
    "\n",
    "for r = 1:R\n",
    "    for k = 1:K\n",
    "        # if x[r, k] == 1 => mask[2r, 2r+1, k] == 1\n",
    "        @constraint(m, mask[2r, 2r+1, k] - 1 >= small_m3*(1 - x[r, k]))\n",
    "    end\n",
    "end\n",
    "\n",
    "\n",
    "# Constraints for distance travelled by fleet\n",
    "for k = 1:K\n",
    "    # if y[k] == 0 => d[k] == 0\n",
    "    @constraint(m, d[k] <= Big_M * y[k])\n",
    "    \n",
    "    # if y[k] == 1 => d[k] > 0\n",
    "    @constraint(m, d[k] >= small_m2 * (1 - y[k]) + epsilon*y[k])\n",
    "    \n",
    "    # Dispatch cabs from the smallest number\n",
    "    if k < K\n",
    "        @constraint(m, y[k] >= y[k+1])\n",
    "    end\n",
    "end\n",
    "\n",
    "\n",
    "for r1 = 1:R-1\n",
    "    for r2 = (r1+1):R\n",
    "        for k = 1:K\n",
    "            @constraint(m, p_t[r2] - d_t[r1] - dist_map[2*r2, 2*r1+1] >= small_m*(1 - x[r1, k]*x[r2, k]))\n",
    "            #@constraint(m, mask[2*r1+1, 2*r2, k] - 1 >= small_m3*(1 - (x[r1, k]*x[r2, k])))\n",
    "            @constraint(m, temp2[r1, r2, k] - 1 >= small_m3*(1 - (x[r1, k]*x[r2, k])))\n",
    "            @constraint(m, mask[2*r1+1, 2*r2, k] - 1 >= small_m3*(1 - temp[r1, r2, k]*temp2[r1, r2, k]))\n",
    "           \n",
    "            @constraint(m, temp[r1, r2, k] - 1 >= small_m3*(1-more2[r1, r2, k]*less2[r1, r2, k]))\n",
    "            #@constraint(m, mask[2*r1+1, 2*r2, k] - 1 >= small_m3*(1-more2[r1, r2, k]*less2[r1, r2, k]))  \n",
    "        end\n",
    "    end\n",
    "end\n",
    "\n",
    "\n",
    "\n",
    "for p_idx in 1:2R+1\n",
    "    for d_idx in 1:2R+1\n",
    "        # At most 1 cab can be assigned to each travel route between 2 nodes\n",
    "        @constraint(m, sum(mask[p_idx, d_idx, k] for k in 1:K) <= 1)\n",
    "    end\n",
    "end\n",
    "\n",
    "for k = 1:K\n",
    "    for p_idx in 1:2R+1\n",
    "        # Given one cab and one starting node, at most one ending node can be assigned\n",
    "        @constraint(m, sum(mask[p_idx, d_idx, k] for d_idx in 1:2R+1) <= 1)\n",
    "    end\n",
    "end\n",
    "\n",
    "# Minimize: the number of dispatched cabs + the total travel distances by dispatched cabs\n",
    "@objective(m, Min, sum(lambda*y + d))\n",
    "\n",
    "@time(status = solve(m))\n",
    "\n",
    "#println(m)\n",
    "println(status)\n",
    "if status != :Optimal\n",
    "    println(\"\\n\", Status,\"\\nCheck the parameters again...\")\n",
    "else\n",
    "    println(\"Optimum = \", getobjectivevalue(m))\n",
    "    println(\"y = \", getvalue(y))\n",
    "\n",
    "    println(\"x = \")\n",
    "    for r = 1:R\n",
    "        println(getvalue(x)[r, 1:K])\n",
    "    end\n",
    "\n",
    "    println(\"mask = \")\n",
    "    mask_best = getvalue(mask)\n",
    "    for k = 1:K\n",
    "        for p_idx in 1:2R+1\n",
    "            println(mask_best[p_idx, 1:2R+1, k])\n",
    "        end\n",
    "        println(\"\")\n",
    "    end\n",
    "    println(\"d = \", getvalue(d))\n",
    "end"
   ]
  },
  {
   "cell_type": "code",
   "execution_count": 168,
   "metadata": {
    "scrolled": false
   },
   "outputs": [
    {
     "data": {
      "image/png": "[encoded data removed]",
      "text/plain": [
       "PyPlot.Figure(PyObject <matplotlib.figure.Figure object at 0x13fddac90>)"
      ]
     },
     "metadata": {},
     "output_type": "display_data"
    }
   ],
   "source": [
    "plot_car_route(requests, depot, mask_best)"
   ]
  },
  {
   "cell_type": "code",
   "execution_count": null,
   "metadata": {},
   "outputs": [],
   "source": []
  }
 ],
 "metadata": {
  "kernelspec": {
   "display_name": "Julia 0.6.2",
   "language": "julia",
   "name": "julia-0.6"
  },
  "language_info": {
   "file_extension": ".jl",
   "mimetype": "application/julia",
   "name": "julia",
   "version": "0.6.2"
  }
 },
 "nbformat": 4,
 "nbformat_minor": 2
}
