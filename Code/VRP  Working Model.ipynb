{
 "cells": [
  {
   "cell_type": "code",
   "execution_count": 432,
   "metadata": {
    "collapsed": true
   },
   "outputs": [],
   "source": [
    "using JuMP, NamedArrays"
   ]
  },
  {
   "cell_type": "code",
   "execution_count": 433,
   "metadata": {},
   "outputs": [
    {
     "data": {
      "text/plain": [
       "plot_Request_Time_Window (generic function with 1 method)"
      ]
     },
     "execution_count": 433,
     "metadata": {},
     "output_type": "execute_result"
    }
   ],
   "source": [
    "# Create a plot showing the request with the time window\n",
    "function plot_Request_Time_Window(passengers)\n",
    "    figure(figsize=(10,10));\n",
    "    request_no = length(passengers)\n",
    "    drop_time_list = []\n",
    "\n",
    "    for i=1:request_no\n",
    "        p = passengers[i]\n",
    "        drop_time = p.pickup_time+p.duration\n",
    "        push!(drop_time_list, drop_time)\n",
    "        \n",
    "        # Randomly assign color to each request\n",
    "        r = hex(rand(16:255))\n",
    "        g = hex(rand(16:255))\n",
    "        b = hex(rand(16:255))\n",
    "        color_val = string(\"#\", r, g, b)\n",
    "        \n",
    "        hlines(y=i, xmin=p.pickup_time, xmax=drop_time, color=color_val)\n",
    "        plot(p.pickup_time, i, marker=\"o\", color=color_val)\n",
    "        plot(drop_time, i, marker=\"o\", color=color_val)\n",
    "        \n",
    "        time_stamp = string(\"T = \", p.pickup_time)\n",
    "        text(p.pickup_time, i + 0.1, time_stamp, fontsize=8)\n",
    "        time_stamp = string(\"T = \", drop_time)\n",
    "        text(drop_time, i - 0.2, time_stamp, fontsize=8) \n",
    "    end\n",
    "\n",
    "    PyPlot.yticks(1:request_no)\n",
    "    ax = gca()\n",
    "    ax[:set_xlim](passengers[1].pickup_time - 10, maximum(drop_time_list) + 20)\n",
    "    ax[:set_ylim]([0, request_no + 1])\n",
    "    title(\"Request vs Time\")\n",
    "    xlabel(\"Time\")\n",
    "    ylabel(\"Request #\")\n",
    "    grid(\"on\")\n",
    "end"
   ]
  },
  {
   "cell_type": "code",
   "execution_count": 434,
   "metadata": {},
   "outputs": [
    {
     "data": {
      "text/plain": [
       "rand_normalized_xy (generic function with 1 method)"
      ]
     },
     "execution_count": 434,
     "metadata": {},
     "output_type": "execute_result"
    }
   ],
   "source": [
    "using PyPlot\n",
    "WIDTH = 51 # odd number\n",
    "HEIGHT = 41 # odd number\n",
    "NRG = min(WIDTH, HEIGHT)\n",
    "\n",
    "type Passenger\n",
    "    pickup_pos::Tuple{Int64, Int64}\n",
    "    pickup_time::Int\n",
    "    dropoff_pos::Tuple{Int64, Int64}\n",
    "    duration::Int\n",
    "end\n",
    "type Driver\n",
    "    cur_pos::Tuple{Int64, Int64}\n",
    "end\n",
    "\n",
    "function manhattan_distance(a, b)\n",
    "    return sum(abs.([i for i in a]-[i for i in b]))\n",
    "end\n",
    "\n",
    "function rand_xy()\n",
    "   return (rand(1:WIDTH), rand(1:HEIGHT)) \n",
    "end\n",
    "\n",
    "\n",
    "function rand_normalized_xy()\n",
    "    pass_x = Int(round((randn()/6+0.5)*(NRG-1)+1))\n",
    "    pass_y = Int(round((randn()/6+0.5)*(NRG-1)+1))\n",
    "    if WIDTH > HEIGHT\n",
    "        pass_x += Int(round((WIDTH-HEIGHT)/2))\n",
    "    else\n",
    "        pass_y += Int(round((HEIGHT-WIDTH)/2))\n",
    "    end\n",
    "    return (pass_x, pass_y)\n",
    "end\n"
   ]
  },
  {
   "cell_type": "code",
   "execution_count": 435,
   "metadata": {},
   "outputs": [
    {
     "data": {
      "text/plain": [
       "plot_passenger_driver (generic function with 1 method)"
      ]
     },
     "execution_count": 435,
     "metadata": {},
     "output_type": "execute_result"
    }
   ],
   "source": [
    "function plot_passenger_driver(passengers, drivers)\n",
    "    ppxs = Int64[] # passenger pickup position x\n",
    "    ppys = Int64[] # passenger pickup position y\n",
    "    pdxs = Int64[] # passenger dropoff position x\n",
    "    pdys = Int64[] # passenger dropoff position y\n",
    "    dxs = Int64[] # driver current position x\n",
    "    dys = Int64[] # driver current position y\n",
    "    fig = figure(\"pyplot_scatterplot\",figsize=(15,15) )#(15,15*(HEIGHT/WIDTH)))\n",
    "    ax = axes()\n",
    "    for i=1:length(passengers)\n",
    "        p = passengers[i]\n",
    "        annotate(i, xy=[a for a in p.pickup_pos]-0.3)\n",
    "        annotate(i, xy=[a for a in p.dropoff_pos]-0.3)\n",
    "        push!(ppxs, p.pickup_pos[1])\n",
    "        push!(ppys, p.pickup_pos[2])\n",
    "        push!(pdxs, p.dropoff_pos[1])\n",
    "        push!(pdys, p.dropoff_pos[2])\n",
    "    end\n",
    "    for i=1:length(drivers)\n",
    "        d = drivers[i]\n",
    "        push!(dxs, d.cur_pos[1])\n",
    "        push!(dys, d.cur_pos[2])\n",
    "    end\n",
    "    scatter(ppxs,ppys,s=300,alpha=0.5,color=\"r\", marker=\"X\")\n",
    "    scatter(pdxs,pdys,s=300,alpha=0.5,color=\"g\", marker = \"^\")\n",
    "    scatter(dxs,dys,s=1000,alpha=0.5,color=\"b\", marker = \"s\")\n",
    "    title(\"Map\")\n",
    "    xlabel(\"X\");xlim([1,WIDTH])\n",
    "    ylabel(\"Y\");ylim([1,HEIGHT])\n",
    "    grid(\"on\")\n",
    "end\n"
   ]
  },
  {
   "cell_type": "code",
   "execution_count": 688,
   "metadata": {},
   "outputs": [
    {
     "data": {
      "text/plain": [
       "genGrid (generic function with 1 method)"
      ]
     },
     "execution_count": 688,
     "metadata": {},
     "output_type": "execute_result"
    }
   ],
   "source": [
    "function genGrid(n_passenger, n_driver)\n",
    "    passengers = Passenger[]\n",
    "    drivers = Driver[]\n",
    "    ptime = sort(rand(50:1000,n_passenger))\n",
    "    for i=1:n_passenger\n",
    "        ppos = rand_xy()\n",
    "        dpos = rand_xy()\n",
    "        p = Passenger(ppos, ptime[i], dpos, manhattan_distance(ppos,dpos))\n",
    "        push!(passengers, p)\n",
    "    end\n",
    "    for i=1:n_driver\n",
    "        d = Driver((Int((WIDTH+1)/2), Int((HEIGHT+1)/2)))\n",
    "        push!(drivers, d)\n",
    "    end\n",
    "    plot_passenger_driver(passengers, drivers)   #### Function call to plot \n",
    "    for p in passengers\n",
    "        println(p)\n",
    "    end\n",
    "    plot_Request_Time_Window(passengers)\n",
    "    return passengers,drivers\n",
    "end"
   ]
  },
  {
   "cell_type": "code",
   "execution_count": 490,
   "metadata": {},
   "outputs": [
    {
     "data": {
      "text/plain": [
       "getLocations (generic function with 1 method)"
      ]
     },
     "execution_count": 490,
     "metadata": {},
     "output_type": "execute_result"
    }
   ],
   "source": [
    "# Function to Get the coordinates of all depot and pickup, drop locations of requests (in order of request)\n",
    "# Can be modified to be called within distance matrix\n",
    "\n",
    "function getLocations(depot, requests)\n",
    "    nodes = []\n",
    "    for d in depot             # Right now, considering only single depot.\n",
    "        depot_node = d.cur_pos\n",
    "        push!(nodes, depot_node)\n",
    "    end\n",
    "\n",
    "    for r in requests\n",
    "        push!(nodes, r.pickup_pos)\n",
    "        push!(nodes, r.dropoff_pos)\n",
    "    end\n",
    "    return nodes\n",
    "end"
   ]
  },
  {
   "cell_type": "markdown",
   "metadata": {},
   "source": [
    "# Generating distance matrix "
   ]
  },
  {
   "cell_type": "code",
   "execution_count": 491,
   "metadata": {},
   "outputs": [
    {
     "data": {
      "text/plain": [
       "distance_matrix (generic function with 1 method)"
      ]
     },
     "execution_count": 491,
     "metadata": {},
     "output_type": "execute_result"
    }
   ],
   "source": [
    "# Generating distance matrix.\n",
    " \n",
    "function distance_matrix(nodes, numReq)\n",
    "    \n",
    "    # Creating names for nodes\n",
    "    numReq = length(requests)\n",
    "    points = []\n",
    "    i = 0\n",
    "    push!(points,\"Depot\")\n",
    "    for r in 1:numReq\n",
    "        i = i+1\n",
    "        pickup = string(\"P_\",i)\n",
    "        drop = string(\"D_\",i)\n",
    "        push!(points,pickup)\n",
    "        push!(points,drop)\n",
    "    end\n",
    "    println(points)\n",
    "\n",
    "    # Compute distance matrix for the Agencies\n",
    "    pointA = nodes\n",
    "    pointB = copy(nodes)\n",
    "\n",
    "    nodeLen = length(nodes) # nodes include pickup, dropoff and depot\n",
    "\n",
    "    D = zeros(nodeLen,nodeLen)\n",
    "\n",
    "    for j = 1:nodeLen\n",
    "            for i = 1:nodeLen\n",
    "                D[i, j] = abs(pointA[j][1] - pointB[i][1]) + abs(pointA[j][2] - pointB[i][2])\n",
    "            end\n",
    "    end\n",
    "    #println(\"Distance matrix : \",D)\n",
    "    println(\"\")\n",
    "\n",
    "    dist_matrix =  NamedArray(D,(points,points),(\"From\",\"To\"))\n",
    "    #show(IOContext(STDOUT, displaysize=(2000, 2000)), dist_matrix)\n",
    "    #points\n",
    "    return dist_matrix\n",
    "end"
   ]
  },
  {
   "cell_type": "code",
   "execution_count": 492,
   "metadata": {},
   "outputs": [
    {
     "data": {
      "text/plain": [
       "plot_car_route (generic function with 1 method)"
      ]
     },
     "execution_count": 492,
     "metadata": {},
     "output_type": "execute_result"
    }
   ],
   "source": [
    "function plot_car_route(passengers, drivers, x_request_to_cab)\n",
    "    ppxs = Int64[] # passenger pickup position x\n",
    "    ppys = Int64[] # passenger pickup position y\n",
    "    pdxs = Int64[] # passenger dropoff position x\n",
    "    pdys = Int64[] # passenger dropoff position y\n",
    "    dxs = Int64[] # driver current position x\n",
    "    dys = Int64[] # driver current position y\n",
    "    fig = figure(\"pyplot_scatterplot\",figsize=(15,15) )#(15,15*(HEIGHT/WIDTH)))\n",
    "    ax = axes()\n",
    "    for i=1:length(passengers)\n",
    "        p = passengers[i]\n",
    "        annotate(i, xy=[a for a in p.pickup_pos]-0.3)\n",
    "        annotate(i, xy=[a for a in p.dropoff_pos]-0.3)\n",
    "        push!(ppxs, p.pickup_pos[1])\n",
    "        push!(ppys, p.pickup_pos[2])\n",
    "        push!(pdxs, p.dropoff_pos[1])\n",
    "        push!(pdys, p.dropoff_pos[2])\n",
    "    end\n",
    "    for i=1:length(drivers)\n",
    "        d = drivers[i]\n",
    "        push!(dxs, d.cur_pos[1])\n",
    "        push!(dys, d.cur_pos[2])\n",
    "    end\n",
    "    scatter(ppxs,ppys,s=300,alpha=0.5,color=\"r\")\n",
    "    scatter(pdxs,pdys,s=300,alpha=0.5,color=\"g\")\n",
    "    scatter(dxs,dys,s=300,alpha=0.5,color=\"b\")\n",
    "    \n",
    "    # Plost route line for each cab\n",
    "    for k = 1:K\n",
    "        # Randomly assign color to each request\n",
    "        r = hex(rand(16:255))\n",
    "        g = hex(rand(16:255))\n",
    "        b = hex(rand(16:255))\n",
    "        color_val = string(\"#\", r, g, b)\n",
    "        \n",
    "        for r = 1:R\n",
    "            if x_request_to_cab[r, k] > 0\n",
    "                request = passengers[r]\n",
    "                \n",
    "                pp_x = request.pickup_pos[1]\n",
    "                pp_y = request.pickup_pos[2]\n",
    "                dp_x = request.dropoff_pos[1]\n",
    "                dp_y = request.dropoff_pos[2]\n",
    "                hlines(y=pp_y, xmin=pp_x, xmax=dp_x, color=color_val)\n",
    "                vlines(x=dp_x, ymin=pp_y, ymax=dp_y, color=color_val)\n",
    "                \n",
    "                time_stamp = string(\"[Cab #\", k, \"]\")\n",
    "                if dp_y > pp_y\n",
    "                    plot(dp_x, dp_y, marker=\"^\", color=color_val, markersize = 20)\n",
    "                    text(dp_x+.5, dp_y+.5, time_stamp, fontsize=16, color=color_val)\n",
    "                elseif dp_y < pp_y\n",
    "                    plot(dp_x, dp_y, marker=\"v\", color=color_val, markersize = 20)\n",
    "                    text(dp_x+.5, dp_y+.5, time_stamp, fontsize=16, color=color_val)\n",
    "                elseif dp_y == pp_y && dp_x < pp_x\n",
    "                    plot(dp_x, dp_y, marker=\"<\", color=color_val, markersize = 20)\n",
    "                    text(dp_x+.5, dp_y+.5, time_stamp, fontsize=16, color=color_val)\n",
    "                elseif dp_y == pp_y && dp_x > pp_x\n",
    "                    plot(dp_x, dp_y, marker=\">\", color=color_val, markersize = 20)\n",
    "                    text(dp_x+.5, dp_y+.5, time_stamp, fontsize=16, color=color_val)\n",
    "                end\n",
    "            end\n",
    "        end\n",
    "    end\n",
    "    \n",
    "    title(\"Map\")\n",
    "    xlabel(\"X\");xlim([1,WIDTH])\n",
    "    ylabel(\"Y\");ylim([1,HEIGHT])\n",
    "    grid(\"on\")\n",
    "end"
   ]
  },
  {
   "cell_type": "code",
   "execution_count": 493,
   "metadata": {},
   "outputs": [
    {
     "data": {
      "text/plain": [
       "plot_car_route_v2 (generic function with 1 method)"
      ]
     },
     "execution_count": 493,
     "metadata": {},
     "output_type": "execute_result"
    }
   ],
   "source": [
    "function plot_car_route_v2(passengers, drivers, mask)    \n",
    "    \n",
    "    ppxs = Int64[] # passenger pickup position x\n",
    "    ppys = Int64[] # passenger pickup position y\n",
    "    pdxs = Int64[] # passenger dropoff position x\n",
    "    pdys = Int64[] # passenger dropoff position y\n",
    "    dxs = Int64[] # driver current position x\n",
    "    dys = Int64[] # driver current position y\n",
    "    fig = figure(\"pyplot_scatterplot\",figsize=(20,20) )#(15,15*(HEIGHT/WIDTH)))\n",
    "    ax = axes()\n",
    "    for i=1:length(passengers)\n",
    "        p = passengers[i]\n",
    "        annotate(i, xy=[a for a in p.pickup_pos]-0.3)\n",
    "        annotate(i, xy=[a for a in p.dropoff_pos]-0.3)\n",
    "        push!(ppxs, p.pickup_pos[1])\n",
    "        push!(ppys, p.pickup_pos[2])\n",
    "        push!(pdxs, p.dropoff_pos[1])\n",
    "        push!(pdys, p.dropoff_pos[2])\n",
    "    end\n",
    "    for i=1:length(drivers)\n",
    "        d = drivers[i]\n",
    "        push!(dxs, d.cur_pos[1])\n",
    "        push!(dys, d.cur_pos[2])\n",
    "    end\n",
    "    scatter(ppxs,ppys,s=300,alpha=0.5,color=\"r\")\n",
    "    scatter(pdxs,pdys,s=300,alpha=0.5,color=\"g\")\n",
    "    scatter(dxs,dys,s=300,alpha=0.5,color=\"b\")\n",
    "    \n",
    "    # Plot route line for each cab\n",
    "    for k = 1:K\n",
    "        # Randomly assign color to each request\n",
    "        r = hex(rand(16:255))\n",
    "        g = hex(rand(16:255))\n",
    "        b = hex(rand(16:255))\n",
    "        color_val = string(\"#\", r, g, b)\n",
    "        \n",
    "        \n",
    "        for p = 1:2R+1\n",
    "            for d = 1:2R+1\n",
    "\n",
    "                if mask[p, d, k] > 0\n",
    "                    if p+1 == d && p%2 == 0\n",
    "                        request = passengers[Int8(round(p/2))]\n",
    "\n",
    "                        pp_x = request.pickup_pos[1]\n",
    "                        pp_y = request.pickup_pos[2]\n",
    "                        dp_x = request.dropoff_pos[1]\n",
    "                        dp_y = request.dropoff_pos[2]\n",
    "                        \n",
    "                        hlines(y=pp_y, xmin=pp_x, xmax=dp_x, color=color_val)\n",
    "                        vlines(x=dp_x, ymin=pp_y, ymax=dp_y, color=color_val)\n",
    "                    else\n",
    "                        start_between_req = passengers[Int8(round((p-1)/2))]\n",
    "                        end_between_req = passengers[Int8(round(d/2))]\n",
    "                        \n",
    "                        pp_x = start_between_req.dropoff_pos[1]\n",
    "                        pp_y = start_between_req.dropoff_pos[2]   \n",
    "                        dp_x = end_between_req.pickup_pos[1]\n",
    "                        dp_y = end_between_req.pickup_pos[2]\n",
    "                        \n",
    "                        x_min = minimum([pp_x, dp_x])\n",
    "                        x_max = maximum([pp_x, dp_x])\n",
    "                        x_range = x_min:x_max; y_range = pp_y*ones(length(x_range))\n",
    "                        plot(x_range, y_range, color=color_val, linestyle=\"--\")\n",
    "                        \n",
    "                        y_min = minimum([pp_y, dp_y])\n",
    "                        y_max = maximum([pp_y, dp_y])\n",
    "                        y_range = y_min:y_max; x_range = dp_x*ones(length(y_range))\n",
    "                        plot(x_range, y_range, color=color_val, linestyle=\"--\")\n",
    "                    end\n",
    "                    \n",
    "                    time_stamp = string(\"[Cab #\", k, \"]\")\n",
    "                    if dp_y > pp_y\n",
    "                        plot(dp_x, dp_y, marker=\"^\", color=color_val, markersize = 20)\n",
    "                        text(dp_x+.5, dp_y+.5, time_stamp, fontsize=16, color=color_val)\n",
    "                    elseif dp_y < pp_y\n",
    "                        plot(dp_x, dp_y, marker=\"v\", color=color_val, markersize = 20)\n",
    "                        text(dp_x+.5, dp_y+.5, time_stamp, fontsize=16, color=color_val)\n",
    "                    elseif dp_y == pp_y && dp_x < pp_x\n",
    "                        plot(dp_x, dp_y, marker=\"<\", color=color_val, markersize = 20)\n",
    "                        text(dp_x+.5, dp_y+.5, time_stamp, fontsize=16, color=color_val)\n",
    "                    elseif dp_y == pp_y && dp_x > pp_x\n",
    "                        plot(dp_x, dp_y, marker=\">\", color=color_val, markersize = 20)\n",
    "                        text(dp_x+.5, dp_y+.5, time_stamp, fontsize=16, color=color_val)\n",
    "                    end\n",
    "                end\n",
    "                \n",
    "            end\n",
    "        end\n",
    "    end\n",
    "    \n",
    "    title(\"Map\")\n",
    "    xlabel(\"X\");xlim([1,WIDTH])\n",
    "    ylabel(\"Y\");ylim([1,HEIGHT])\n",
    "    grid(\"on\")\n",
    "end"
   ]
  },
  {
   "cell_type": "markdown",
   "metadata": {},
   "source": [
    "# VRP Model Test"
   ]
  },
  {
   "cell_type": "code",
   "execution_count": 689,
   "metadata": {
    "scrolled": false
   },
   "outputs": [
    {
     "name": "stdout",
     "output_type": "stream",
     "text": [
      "Passenger((4, 18), 228, (26, 7), 33)\n",
      "Passenger((39, 16), 376, (6, 2), 47)\n",
      "Passenger((35, 5), 449, (4, 35), 61)\n",
      "Passenger((8, 26), 833, (23, 13), 28)\n",
      "Any[\"Depot\", \"P_1\", \"D_1\", \"P_2\", \"D_2\", \"P_3\", \"D_3\", \"P_4\", \"D_4\"]\n",
      "\n",
      "\n"
     ]
    },
    {
     "data": {
      "image/png": "[encoded data removed]",
      "text/plain": [
       "PyPlot.Figure(PyObject <matplotlib.figure.Figure object at 0x00000000402E1EB8>)"
      ]
     },
     "metadata": {},
     "output_type": "display_data"
    },
    {
     "data": {
      "image/png": "[encoded data removed]",
      "text/plain": [
       "PyPlot.Figure(PyObject <matplotlib.figure.Figure object at 0x00000000401E9D68>)"
      ]
     },
     "metadata": {},
     "output_type": "display_data"
    },
    {
     "name": "stdout",
     "output_type": "stream",
     "text": [
      "Passenger((4, 18), 228, (26, 7), 33)\n",
      "Passenger((39, 16), 376, (6, 2), 47)\n",
      "Passenger((35, 5), 449, (4, 35), 61)\n",
      "Passenger((8, 26), 833, (23, 13), 28)\n",
      "\n",
      "pickup time = Any[228, 376, 449, 833]\n",
      "pickup location = Any[(4, 18), (39, 16), (35, 5), (8, 26)]\n",
      "dropoff time = Any[261, 423, 510, 861]\n",
      "dropoff location = Any[(26, 7), (6, 2), (4, 35), (23, 13)]\n",
      "duration = Any[33, 47, 61, 28]\n"
     ]
    }
   ],
   "source": [
    "# Parameter\n",
    "R = 4 # Number of requests\n",
    "requests, depot = genGrid(R, 1)\n",
    "nodes = getLocations(depot, requests)\n",
    "dist_map = distance_matrix(nodes, length(requests));\n",
    "\n",
    "p_t = []\n",
    "p_l = []\n",
    "d_t = []\n",
    "d_l = []\n",
    "duration = []\n",
    "\n",
    "println(\"\")\n",
    "for r = 1:R\n",
    "    println(requests[r])\n",
    "    \n",
    "    push!(p_t, requests[r].pickup_time)\n",
    "    push!(p_l, requests[r].pickup_pos)\n",
    "    push!(d_t, requests[r].pickup_time + requests[r].duration)\n",
    "    push!(d_l, requests[r].dropoff_pos)\n",
    "    push!(duration, requests[r].duration)\n",
    "end\n",
    "\n",
    "println(\"\")\n",
    "println(\"pickup time = \", p_t)\n",
    "println(\"pickup location = \", p_l)\n",
    "println(\"dropoff time = \", d_t)\n",
    "println(\"dropoff location = \", d_l)\n",
    "println(\"duration = \", duration)"
   ]
  },
  {
   "cell_type": "code",
   "execution_count": 691,
   "metadata": {
    "scrolled": false
   },
   "outputs": [
    {
     "name": "stdout",
     "output_type": "stream",
     "text": [
      "small_m = -694.0\n",
      "Big_M = 2076.0\n"
     ]
    },
    {
     "name": "stderr",
     "output_type": "stream",
     "text": [
      "\u001b[1m\u001b[33mWARNING: \u001b[39m\u001b[22m\u001b[33mNot solved to optimality, status: Infeasible\u001b[39m\n",
      "\u001b[1m\u001b[33mWARNING: \u001b[39m\u001b[22m\u001b[33mVariable value not defined for component of y. Check that the model was properly solved.\u001b[39m\n",
      "\u001b[1m\u001b[33mWARNING: \u001b[39m\u001b[22m\u001b[33mVariable value not defined for component of x. Check that the model was properly solved.\u001b[39m\n",
      "\u001b[1m\u001b[33mWARNING: \u001b[39m\u001b[22m\u001b[33mVariable value not defined for component of x. Check that the model was properly solved.\u001b[39m\n",
      "\u001b[1m\u001b[33mWARNING: \u001b[39m\u001b[22m\u001b[33mVariable value not defined for component of x. Check that the model was properly solved.\u001b[39m\n",
      "\u001b[1m\u001b[33mWARNING: \u001b[39m\u001b[22m\u001b[33mVariable value not defined for component of x. Check that the model was properly solved.\u001b[39m\n",
      "\u001b[1m\u001b[33mWARNING: \u001b[39m\u001b[22m\u001b[33mVariable value not defined for component of mask. Check that the model was properly solved.\u001b[39m\n",
      "\u001b[1m\u001b[33mWARNING: \u001b[39m\u001b[22m\u001b[33mVariable value not defined for mask[1,1,1]. Check that the model was properly solved.\u001b[39m\n",
      "\u001b[1m\u001b[33mWARNING: \u001b[39m\u001b[22m\u001b[33mVariable value not defined for mask[1,2,1]. Check that the model was properly solved.\u001b[39m\n",
      "\u001b[1m\u001b[33mWARNING: \u001b[39m\u001b[22m\u001b[33mVariable value not defined for mask[1,3,1]. Check that the model was properly solved.\u001b[39m\n",
      "\u001b[1m\u001b[33mWARNING: \u001b[39m\u001b[22m\u001b[33mVariable value not defined for mask[1,4,1]. Check that the model was properly solved.\u001b[39m\n",
      "\u001b[1m\u001b[33mWARNING: \u001b[39m\u001b[22m\u001b[33mVariable value not defined for mask[1,5,1]. Check that the model was properly solved.\u001b[39m\n",
      "\u001b[1m\u001b[33mWARNING: \u001b[39m\u001b[22m\u001b[33mVariable value not defined for mask[1,6,1]. Check that the model was properly solved.\u001b[39m\n",
      "\u001b[1m\u001b[33mWARNING: \u001b[39m\u001b[22m\u001b[33mVariable value not defined for mask[1,7,1]. Check that the model was properly solved.\u001b[39m\n",
      "\u001b[1m\u001b[33mWARNING: \u001b[39m\u001b[22m\u001b[33mVariable value not defined for mask[1,8,1]. Check that the model was properly solved.\u001b[39m\n",
      "\u001b[1m\u001b[33mWARNING: \u001b[39m\u001b[22m\u001b[33mVariable value not defined for mask[1,9,1]. Check that the model was properly solved.\u001b[39m\n",
      "\u001b[1m\u001b[33mWARNING: \u001b[39m\u001b[22m\u001b[33mVariable value not defined for mask[2,1,1]. Check that the model was properly solved.\u001b[39m\n",
      "\u001b[1m\u001b[33mWARNING: \u001b[39m\u001b[22m\u001b[33mVariable value not defined for mask[2,3,1]. Check that the model was properly solved.\u001b[39m\n",
      "\u001b[1m\u001b[33mWARNING: \u001b[39m\u001b[22m\u001b[33mVariable value not defined for mask[2,4,1]. Check that the model was properly solved.\u001b[39m\n",
      "\u001b[1m\u001b[33mWARNING: \u001b[39m\u001b[22m\u001b[33mVariable value not defined for mask[2,5,1]. Check that the model was properly solved.\u001b[39m\n",
      "\u001b[1m\u001b[33mWARNING: \u001b[39m\u001b[22m\u001b[33mVariable value not defined for mask[2,6,1]. Check that the model was properly solved.\u001b[39m\n",
      "\u001b[1m\u001b[33mWARNING: \u001b[39m\u001b[22m\u001b[33mVariable value not defined for mask[2,7,1]. Check that the model was properly solved.\u001b[39m\n",
      "\u001b[1m\u001b[33mWARNING: \u001b[39m\u001b[22m\u001b[33mVariable value not defined for mask[2,8,1]. Check that the model was properly solved.\u001b[39m\n",
      "\u001b[1m\u001b[33mWARNING: \u001b[39m\u001b[22m\u001b[33mVariable value not defined for mask[2,9,1]. Check that the model was properly solved.\u001b[39m\n",
      "\u001b[1m\u001b[33mWARNING: \u001b[39m\u001b[22m\u001b[33mVariable value not defined for mask[3,1,1]. Check that the model was properly solved.\u001b[39m\n",
      "\u001b[1m\u001b[33mWARNING: \u001b[39m\u001b[22m\u001b[33mVariable value not defined for mask[3,2,1]. Check that the model was properly solved.\u001b[39m\n",
      "\u001b[1m\u001b[33mWARNING: \u001b[39m\u001b[22m\u001b[33mVariable value not defined for mask[3,4,1]. Check that the model was properly solved.\u001b[39m\n",
      "\u001b[1m\u001b[33mWARNING: \u001b[39m\u001b[22m\u001b[33mVariable value not defined for mask[3,5,1]. Check that the model was properly solved.\u001b[39m\n",
      "\u001b[1m\u001b[33mWARNING: \u001b[39m\u001b[22m\u001b[33mVariable value not defined for mask[3,6,1]. Check that the model was properly solved.\u001b[39m\n",
      "\u001b[1m\u001b[33mWARNING: \u001b[39m\u001b[22m\u001b[33mVariable value not defined for mask[3,7,1]. Check that the model was properly solved.\u001b[39m\n",
      "\u001b[1m\u001b[33mWARNING: \u001b[39m\u001b[22m\u001b[33mVariable value not defined for mask[3,8,1]. Check that the model was properly solved.\u001b[39m\n",
      "\u001b[1m\u001b[33mWARNING: \u001b[39m\u001b[22m\u001b[33mVariable value not defined for mask[3,9,1]. Check that the model was properly solved.\u001b[39m\n",
      "\u001b[1m\u001b[33mWARNING: \u001b[39m\u001b[22m\u001b[33mVariable value not defined for mask[4,1,1]. Check that the model was properly solved.\u001b[39m\n",
      "\u001b[1m\u001b[33mWARNING: \u001b[39m\u001b[22m\u001b[33mVariable value not defined for mask[4,2,1]. Check that the model was properly solved.\u001b[39m\n",
      "\u001b[1m\u001b[33mWARNING: \u001b[39m\u001b[22m\u001b[33mVariable value not defined for mask[4,3,1]. Check that the model was properly solved.\u001b[39m\n",
      "\u001b[1m\u001b[33mWARNING: \u001b[39m\u001b[22m\u001b[33mVariable value not defined for mask[4,5,1]. Check that the model was properly solved.\u001b[39m\n",
      "\u001b[1m\u001b[33mWARNING: \u001b[39m\u001b[22m\u001b[33mVariable value not defined for mask[4,6,1]. Check that the model was properly solved.\u001b[39m\n",
      "\u001b[1m\u001b[33mWARNING: \u001b[39m\u001b[22m\u001b[33mVariable value not defined for mask[4,7,1]. Check that the model was properly solved.\u001b[39m\n",
      "\u001b[1m\u001b[33mWARNING: \u001b[39m\u001b[22m\u001b[33mVariable value not defined for mask[4,8,1]. Check that the model was properly solved.\u001b[39m\n",
      "\u001b[1m\u001b[33mWARNING: \u001b[39m\u001b[22m\u001b[33mVariable value not defined for mask[4,9,1]. Check that the model was properly solved.\u001b[39m\n",
      "\u001b[1m\u001b[33mWARNING: \u001b[39m\u001b[22m\u001b[33mVariable value not defined for mask[5,1,1]. Check that the model was properly solved.\u001b[39m\n",
      "\u001b[1m\u001b[33mWARNING: \u001b[39m\u001b[22m\u001b[33mVariable value not defined for mask[5,2,1]. Check that the model was properly solved.\u001b[39m\n",
      "\u001b[1m\u001b[33mWARNING: \u001b[39m\u001b[22m\u001b[33mVariable value not defined for mask[5,3,1]. Check that the model was properly solved.\u001b[39m\n",
      "\u001b[1m\u001b[33mWARNING: \u001b[39m\u001b[22m\u001b[33mVariable value not defined for mask[5,4,1]. Check that the model was properly solved.\u001b[39m\n",
      "\u001b[1m\u001b[33mWARNING: \u001b[39m\u001b[22m\u001b[33mVariable value not defined for mask[5,6,1]. Check that the model was properly solved.\u001b[39m\n",
      "\u001b[1m\u001b[33mWARNING: \u001b[39m\u001b[22m\u001b[33mVariable value not defined for mask[5,7,1]. Check that the model was properly solved.\u001b[39m\n",
      "\u001b[1m\u001b[33mWARNING: \u001b[39m\u001b[22m\u001b[33mVariable value not defined for mask[5,8,1]. Check that the model was properly solved.\u001b[39m\n",
      "\u001b[1m\u001b[33mWARNING: \u001b[39m\u001b[22m\u001b[33mVariable value not defined for mask[5,9,1]. Check that the model was properly solved.\u001b[39m\n",
      "\u001b[1m\u001b[33mWARNING: \u001b[39m\u001b[22m\u001b[33mVariable value not defined for mask[6,1,1]. Check that the model was properly solved.\u001b[39m\n",
      "\u001b[1m\u001b[33mWARNING: \u001b[39m\u001b[22m\u001b[33mVariable value not defined for mask[6,2,1]. Check that the model was properly solved.\u001b[39m\n",
      "\u001b[1m\u001b[33mWARNING: \u001b[39m\u001b[22m\u001b[33mVariable value not defined for mask[6,3,1]. Check that the model was properly solved.\u001b[39m\n",
      "\u001b[1m\u001b[33mWARNING: \u001b[39m\u001b[22m\u001b[33mVariable value not defined for mask[6,4,1]. Check that the model was properly solved.\u001b[39m\n",
      "\u001b[1m\u001b[33mWARNING: \u001b[39m\u001b[22m\u001b[33mVariable value not defined for mask[6,5,1]. Check that the model was properly solved.\u001b[39m\n",
      "\u001b[1m\u001b[33mWARNING: \u001b[39m\u001b[22m\u001b[33mVariable value not defined for mask[6,7,1]. Check that the model was properly solved.\u001b[39m\n",
      "\u001b[1m\u001b[33mWARNING: \u001b[39m\u001b[22m\u001b[33mVariable value not defined for mask[6,8,1]. Check that the model was properly solved.\u001b[39m\n",
      "\u001b[1m\u001b[33mWARNING: \u001b[39m\u001b[22m\u001b[33mVariable value not defined for mask[6,9,1]. Check that the model was properly solved.\u001b[39m\n",
      "\u001b[1m\u001b[33mWARNING: \u001b[39m\u001b[22m\u001b[33mVariable value not defined for mask[7,1,1]. Check that the model was properly solved.\u001b[39m\n",
      "\u001b[1m\u001b[33mWARNING: \u001b[39m\u001b[22m\u001b[33mVariable value not defined for mask[7,2,1]. Check that the model was properly solved.\u001b[39m\n",
      "\u001b[1m\u001b[33mWARNING: \u001b[39m\u001b[22m\u001b[33mVariable value not defined for mask[7,3,1]. Check that the model was properly solved.\u001b[39m\n",
      "\u001b[1m\u001b[33mWARNING: \u001b[39m\u001b[22m\u001b[33mVariable value not defined for mask[7,4,1]. Check that the model was properly solved.\u001b[39m\n",
      "\u001b[1m\u001b[33mWARNING: \u001b[39m\u001b[22m\u001b[33mVariable value not defined for mask[7,5,1]. Check that the model was properly solved.\u001b[39m\n",
      "\u001b[1m\u001b[33mWARNING: \u001b[39m\u001b[22m\u001b[33mVariable value not defined for mask[7,6,1]. Check that the model was properly solved.\u001b[39m\n",
      "\u001b[1m\u001b[33mWARNING: \u001b[39m\u001b[22m\u001b[33mVariable value not defined for mask[7,8,1]. Check that the model was properly solved.\u001b[39m\n",
      "\u001b[1m\u001b[33mWARNING: \u001b[39m\u001b[22m\u001b[33mVariable value not defined for mask[7,9,1]. Check that the model was properly solved.\u001b[39m\n",
      "\u001b[1m\u001b[33mWARNING: \u001b[39m\u001b[22m\u001b[33mVariable value not defined for mask[8,1,1]. Check that the model was properly solved.\u001b[39m\n",
      "\u001b[1m\u001b[33mWARNING: \u001b[39m\u001b[22m\u001b[33mVariable value not defined for mask[8,2,1]. Check that the model was properly solved.\u001b[39m\n",
      "\u001b[1m\u001b[33mWARNING: \u001b[39m\u001b[22m\u001b[33mVariable value not defined for mask[8,3,1]. Check that the model was properly solved.\u001b[39m\n",
      "\u001b[1m\u001b[33mWARNING: \u001b[39m\u001b[22m\u001b[33mVariable value not defined for mask[8,4,1]. Check that the model was properly solved.\u001b[39m\n",
      "\u001b[1m\u001b[33mWARNING: \u001b[39m\u001b[22m\u001b[33mVariable value not defined for mask[8,5,1]. Check that the model was properly solved.\u001b[39m\n",
      "\u001b[1m\u001b[33mWARNING: \u001b[39m\u001b[22m\u001b[33mVariable value not defined for mask[8,6,1]. Check that the model was properly solved.\u001b[39m\n",
      "\u001b[1m\u001b[33mWARNING: \u001b[39m\u001b[22m\u001b[33mVariable value not defined for mask[8,7,1]. Check that the model was properly solved.\u001b[39m\n",
      "\u001b[1m\u001b[33mWARNING: \u001b[39m\u001b[22m\u001b[33mVariable value not defined for mask[8,9,1]. Check that the model was properly solved.\u001b[39m\n",
      "\u001b[1m\u001b[33mWARNING: \u001b[39m\u001b[22m\u001b[33mVariable value not defined for mask[9,1,1]. Check that the model was properly solved.\u001b[39m\n",
      "\u001b[1m\u001b[33mWARNING: \u001b[39m\u001b[22m\u001b[33mVariable value not defined for mask[9,2,1]. Check that the model was properly solved.\u001b[39m\n",
      "\u001b[1m\u001b[33mWARNING: \u001b[39m\u001b[22m\u001b[33mVariable value not defined for mask[9,3,1]. Check that the model was properly solved.\u001b[39m\n",
      "\u001b[1m\u001b[33mWARNING: \u001b[39m\u001b[22m\u001b[33mVariable value not defined for mask[9,4,1]. Check that the model was properly solved.\u001b[39m\n",
      "\u001b[1m\u001b[33mWARNING: \u001b[39m\u001b[22m\u001b[33mVariable value not defined for mask[9,5,1]. Check that the model was properly solved.\u001b[39m\n",
      "\u001b[1m\u001b[33mWARNING: \u001b[39m\u001b[22m\u001b[33mVariable value not defined for mask[9,6,1]. Check that the model was properly solved.\u001b[39m\n",
      "\u001b[1m\u001b[33mWARNING: \u001b[39m\u001b[22m\u001b[33mVariable value not defined for mask[9,7,1]. Check that the model was properly solved.\u001b[39m\n",
      "\u001b[1m\u001b[33mWARNING: \u001b[39m\u001b[22m\u001b[33mVariable value not defined for mask[9,8,1]. Check that the model was properly solved.\u001b[39m\n",
      "\u001b[1m\u001b[33mWARNING: \u001b[39m\u001b[22m\u001b[33mVariable value not defined for mask[1,1,1]. Check that the model was properly solved.\u001b[39m\n",
      "\u001b[1m\u001b[33mWARNING: \u001b[39m\u001b[22m\u001b[33mVariable value not defined for mask[1,2,1]. Check that the model was properly solved.\u001b[39m\n",
      "\u001b[1m\u001b[33mWARNING: \u001b[39m\u001b[22m\u001b[33mVariable value not defined for mask[1,3,1]. Check that the model was properly solved.\u001b[39m\n"
     ]
    },
    {
     "name": "stdout",
     "output_type": "stream",
     "text": [
      "Academic license - for non-commercial use only\r\n",
      "Infeasible\n",
      "Optimum = NaN\n",
      "y = [NaN]\n",
      "x = \n",
      "[NaN]\n",
      "[NaN]\n",
      "[NaN]\n",
      "[NaN]\n",
      "mask = \n",
      "\n",
      "d = [NaN]\n",
      "NaN\n"
     ]
    },
    {
     "name": "stderr",
     "output_type": "stream",
     "text": [
      "\u001b[1m\u001b[33mWARNING: \u001b[39m\u001b[22m\u001b[33mVariable value not defined for mask[1,4,1]. Check that the model was properly solved.\u001b[39m\n",
      "\u001b[1m\u001b[33mWARNING: \u001b[39m\u001b[22m\u001b[33mVariable value not defined for mask[1,5,1]. Check that the model was properly solved.\u001b[39m\n",
      "\u001b[1m\u001b[33mWARNING: \u001b[39m\u001b[22m\u001b[33mVariable value not defined for mask[1,6,1]. Check that the model was properly solved.\u001b[39m\n",
      "\u001b[1m\u001b[33mWARNING: \u001b[39m\u001b[22m\u001b[33mVariable value not defined for mask[1,7,1]. Check that the model was properly solved.\u001b[39m\n",
      "\u001b[1m\u001b[33mWARNING: \u001b[39m\u001b[22m\u001b[33mVariable value not defined for mask[1,8,1]. Check that the model was properly solved.\u001b[39m\n",
      "\u001b[1m\u001b[33mWARNING: \u001b[39m\u001b[22m\u001b[33mVariable value not defined for mask[1,9,1]. Check that the model was properly solved.\u001b[39m\n",
      "\u001b[1m\u001b[33mWARNING: \u001b[39m\u001b[22m\u001b[33mVariable value not defined for mask[2,1,1]. Check that the model was properly solved.\u001b[39m\n",
      "\u001b[1m\u001b[33mWARNING: \u001b[39m\u001b[22m\u001b[33mVariable value not defined for mask[2,3,1]. Check that the model was properly solved.\u001b[39m\n",
      "\u001b[1m\u001b[33mWARNING: \u001b[39m\u001b[22m\u001b[33mVariable value not defined for mask[2,4,1]. Check that the model was properly solved.\u001b[39m\n",
      "\u001b[1m\u001b[33mWARNING: \u001b[39m\u001b[22m\u001b[33mVariable value not defined for mask[2,5,1]. Check that the model was properly solved.\u001b[39m\n",
      "\u001b[1m\u001b[33mWARNING: \u001b[39m\u001b[22m\u001b[33mVariable value not defined for mask[2,6,1]. Check that the model was properly solved.\u001b[39m\n",
      "\u001b[1m\u001b[33mWARNING: \u001b[39m\u001b[22m\u001b[33mVariable value not defined for mask[2,7,1]. Check that the model was properly solved.\u001b[39m\n",
      "\u001b[1m\u001b[33mWARNING: \u001b[39m\u001b[22m\u001b[33mVariable value not defined for mask[2,8,1]. Check that the model was properly solved.\u001b[39m\n",
      "\u001b[1m\u001b[33mWARNING: \u001b[39m\u001b[22m\u001b[33mVariable value not defined for mask[2,9,1]. Check that the model was properly solved.\u001b[39m\n",
      "\u001b[1m\u001b[33mWARNING: \u001b[39m\u001b[22m\u001b[33mVariable value not defined for mask[3,1,1]. Check that the model was properly solved.\u001b[39m\n",
      "\u001b[1m\u001b[33mWARNING: \u001b[39m\u001b[22m\u001b[33mVariable value not defined for mask[3,2,1]. Check that the model was properly solved.\u001b[39m\n",
      "\u001b[1m\u001b[33mWARNING: \u001b[39m\u001b[22m\u001b[33mVariable value not defined for mask[3,4,1]. Check that the model was properly solved.\u001b[39m\n",
      "\u001b[1m\u001b[33mWARNING: \u001b[39m\u001b[22m\u001b[33mVariable value not defined for mask[3,5,1]. Check that the model was properly solved.\u001b[39m\n",
      "\u001b[1m\u001b[33mWARNING: \u001b[39m\u001b[22m\u001b[33mVariable value not defined for mask[3,6,1]. Check that the model was properly solved.\u001b[39m\n",
      "\u001b[1m\u001b[33mWARNING: \u001b[39m\u001b[22m\u001b[33mVariable value not defined for mask[3,7,1]. Check that the model was properly solved.\u001b[39m\n",
      "\u001b[1m\u001b[33mWARNING: \u001b[39m\u001b[22m\u001b[33mVariable value not defined for mask[3,8,1]. Check that the model was properly solved.\u001b[39m\n",
      "\u001b[1m\u001b[33mWARNING: \u001b[39m\u001b[22m\u001b[33mVariable value not defined for mask[3,9,1]. Check that the model was properly solved.\u001b[39m\n",
      "\u001b[1m\u001b[33mWARNING: \u001b[39m\u001b[22m\u001b[33mVariable value not defined for mask[4,1,1]. Check that the model was properly solved.\u001b[39m\n",
      "\u001b[1m\u001b[33mWARNING: \u001b[39m\u001b[22m\u001b[33mVariable value not defined for mask[4,2,1]. Check that the model was properly solved.\u001b[39m\n",
      "\u001b[1m\u001b[33mWARNING: \u001b[39m\u001b[22m\u001b[33mVariable value not defined for mask[4,3,1]. Check that the model was properly solved.\u001b[39m\n",
      "\u001b[1m\u001b[33mWARNING: \u001b[39m\u001b[22m\u001b[33mVariable value not defined for mask[4,5,1]. Check that the model was properly solved.\u001b[39m\n",
      "\u001b[1m\u001b[33mWARNING: \u001b[39m\u001b[22m\u001b[33mVariable value not defined for mask[4,6,1]. Check that the model was properly solved.\u001b[39m\n",
      "\u001b[1m\u001b[33mWARNING: \u001b[39m\u001b[22m\u001b[33mVariable value not defined for mask[4,7,1]. Check that the model was properly solved.\u001b[39m\n",
      "\u001b[1m\u001b[33mWARNING: \u001b[39m\u001b[22m\u001b[33mVariable value not defined for mask[4,8,1]. Check that the model was properly solved.\u001b[39m\n",
      "\u001b[1m\u001b[33mWARNING: \u001b[39m\u001b[22m\u001b[33mVariable value not defined for mask[4,9,1]. Check that the model was properly solved.\u001b[39m\n",
      "\u001b[1m\u001b[33mWARNING: \u001b[39m\u001b[22m\u001b[33mVariable value not defined for mask[5,1,1]. Check that the model was properly solved.\u001b[39m\n",
      "\u001b[1m\u001b[33mWARNING: \u001b[39m\u001b[22m\u001b[33mVariable value not defined for mask[5,2,1]. Check that the model was properly solved.\u001b[39m\n",
      "\u001b[1m\u001b[33mWARNING: \u001b[39m\u001b[22m\u001b[33mVariable value not defined for mask[5,3,1]. Check that the model was properly solved.\u001b[39m\n",
      "\u001b[1m\u001b[33mWARNING: \u001b[39m\u001b[22m\u001b[33mVariable value not defined for mask[5,4,1]. Check that the model was properly solved.\u001b[39m\n",
      "\u001b[1m\u001b[33mWARNING: \u001b[39m\u001b[22m\u001b[33mVariable value not defined for mask[5,6,1]. Check that the model was properly solved.\u001b[39m\n",
      "\u001b[1m\u001b[33mWARNING: \u001b[39m\u001b[22m\u001b[33mVariable value not defined for mask[5,7,1]. Check that the model was properly solved.\u001b[39m\n",
      "\u001b[1m\u001b[33mWARNING: \u001b[39m\u001b[22m\u001b[33mVariable value not defined for mask[5,8,1]. Check that the model was properly solved.\u001b[39m\n",
      "\u001b[1m\u001b[33mWARNING: \u001b[39m\u001b[22m\u001b[33mVariable value not defined for mask[5,9,1]. Check that the model was properly solved.\u001b[39m\n",
      "\u001b[1m\u001b[33mWARNING: \u001b[39m\u001b[22m\u001b[33mVariable value not defined for mask[6,1,1]. Check that the model was properly solved.\u001b[39m\n",
      "\u001b[1m\u001b[33mWARNING: \u001b[39m\u001b[22m\u001b[33mVariable value not defined for mask[6,2,1]. Check that the model was properly solved.\u001b[39m\n",
      "\u001b[1m\u001b[33mWARNING: \u001b[39m\u001b[22m\u001b[33mVariable value not defined for mask[6,3,1]. Check that the model was properly solved.\u001b[39m\n",
      "\u001b[1m\u001b[33mWARNING: \u001b[39m\u001b[22m\u001b[33mVariable value not defined for mask[6,4,1]. Check that the model was properly solved.\u001b[39m\n",
      "\u001b[1m\u001b[33mWARNING: \u001b[39m\u001b[22m\u001b[33mVariable value not defined for mask[6,5,1]. Check that the model was properly solved.\u001b[39m\n",
      "\u001b[1m\u001b[33mWARNING: \u001b[39m\u001b[22m\u001b[33mVariable value not defined for mask[6,7,1]. Check that the model was properly solved.\u001b[39m\n",
      "\u001b[1m\u001b[33mWARNING: \u001b[39m\u001b[22m\u001b[33mVariable value not defined for mask[6,8,1]. Check that the model was properly solved.\u001b[39m\n",
      "\u001b[1m\u001b[33mWARNING: \u001b[39m\u001b[22m\u001b[33mVariable value not defined for mask[6,9,1]. Check that the model was properly solved.\u001b[39m\n",
      "\u001b[1m\u001b[33mWARNING: \u001b[39m\u001b[22m\u001b[33mVariable value not defined for mask[7,1,1]. Check that the model was properly solved.\u001b[39m\n",
      "\u001b[1m\u001b[33mWARNING: \u001b[39m\u001b[22m\u001b[33mVariable value not defined for mask[7,2,1]. Check that the model was properly solved.\u001b[39m\n",
      "\u001b[1m\u001b[33mWARNING: \u001b[39m\u001b[22m\u001b[33mVariable value not defined for mask[7,3,1]. Check that the model was properly solved.\u001b[39m\n",
      "\u001b[1m\u001b[33mWARNING: \u001b[39m\u001b[22m\u001b[33mVariable value not defined for mask[7,4,1]. Check that the model was properly solved.\u001b[39m\n",
      "\u001b[1m\u001b[33mWARNING: \u001b[39m\u001b[22m\u001b[33mVariable value not defined for mask[7,5,1]. Check that the model was properly solved.\u001b[39m\n",
      "\u001b[1m\u001b[33mWARNING: \u001b[39m\u001b[22m\u001b[33mVariable value not defined for mask[7,6,1]. Check that the model was properly solved.\u001b[39m\n",
      "\u001b[1m\u001b[33mWARNING: \u001b[39m\u001b[22m\u001b[33mVariable value not defined for mask[7,8,1]. Check that the model was properly solved.\u001b[39m\n",
      "\u001b[1m\u001b[33mWARNING: \u001b[39m\u001b[22m\u001b[33mVariable value not defined for mask[7,9,1]. Check that the model was properly solved.\u001b[39m\n",
      "\u001b[1m\u001b[33mWARNING: \u001b[39m\u001b[22m\u001b[33mVariable value not defined for mask[8,1,1]. Check that the model was properly solved.\u001b[39m\n",
      "\u001b[1m\u001b[33mWARNING: \u001b[39m\u001b[22m\u001b[33mVariable value not defined for mask[8,2,1]. Check that the model was properly solved.\u001b[39m\n",
      "\u001b[1m\u001b[33mWARNING: \u001b[39m\u001b[22m\u001b[33mVariable value not defined for mask[8,3,1]. Check that the model was properly solved.\u001b[39m\n",
      "\u001b[1m\u001b[33mWARNING: \u001b[39m\u001b[22m\u001b[33mVariable value not defined for mask[8,4,1]. Check that the model was properly solved.\u001b[39m\n",
      "\u001b[1m\u001b[33mWARNING: \u001b[39m\u001b[22m\u001b[33mVariable value not defined for mask[8,5,1]. Check that the model was properly solved.\u001b[39m\n",
      "\u001b[1m\u001b[33mWARNING: \u001b[39m\u001b[22m\u001b[33mVariable value not defined for mask[8,6,1]. Check that the model was properly solved.\u001b[39m\n",
      "\u001b[1m\u001b[33mWARNING: \u001b[39m\u001b[22m\u001b[33mVariable value not defined for mask[8,7,1]. Check that the model was properly solved.\u001b[39m\n",
      "\u001b[1m\u001b[33mWARNING: \u001b[39m\u001b[22m\u001b[33mVariable value not defined for mask[8,9,1]. Check that the model was properly solved.\u001b[39m\n",
      "\u001b[1m\u001b[33mWARNING: \u001b[39m\u001b[22m\u001b[33mVariable value not defined for mask[9,1,1]. Check that the model was properly solved.\u001b[39m\n",
      "\u001b[1m\u001b[33mWARNING: \u001b[39m\u001b[22m\u001b[33mVariable value not defined for mask[9,2,1]. Check that the model was properly solved.\u001b[39m\n",
      "\u001b[1m\u001b[33mWARNING: \u001b[39m\u001b[22m\u001b[33mVariable value not defined for mask[9,3,1]. Check that the model was properly solved.\u001b[39m\n",
      "\u001b[1m\u001b[33mWARNING: \u001b[39m\u001b[22m\u001b[33mVariable value not defined for mask[9,4,1]. Check that the model was properly solved.\u001b[39m\n",
      "\u001b[1m\u001b[33mWARNING: \u001b[39m\u001b[22m\u001b[33mVariable value not defined for mask[9,5,1]. Check that the model was properly solved.\u001b[39m\n",
      "\u001b[1m\u001b[33mWARNING: \u001b[39m\u001b[22m\u001b[33mVariable value not defined for mask[9,6,1]. Check that the model was properly solved.\u001b[39m\n",
      "\u001b[1m\u001b[33mWARNING: \u001b[39m\u001b[22m\u001b[33mVariable value not defined for mask[9,7,1]. Check that the model was properly solved.\u001b[39m\n",
      "\u001b[1m\u001b[33mWARNING: \u001b[39m\u001b[22m\u001b[33mVariable value not defined for mask[9,8,1]. Check that the model was properly solved.\u001b[39m\n"
     ]
    }
   ],
   "source": [
    "K = 1 # Number of cars\n",
    "small_m = minimum(p_t) - maximum(d_t) - maximum(dist_map)\n",
    "println(\"small_m = \", small_m)\n",
    "Big_M = sum(dist_map)\n",
    "println(\"Big_M = \", Big_M)\n",
    "epsilon = 1\n",
    "small_m2 = 0\n",
    "small_m3 = -1\n",
    "lambda = 100###############\n",
    "theta = -1\n",
    "using JuMP, Gurobi\n",
    "\n",
    "m = Model(solver=GurobiSolver(OutputFlag=0))\n",
    "@variable(m, y[1:K], Bin)\n",
    "@variable(m, x[1:R, 1:K], Bin)\n",
    "@variable(m, mask[1:2R+1, 1:2R+1, 1:K], Bin)\n",
    "@variable(m, more2[1:R, 1:R, 1:K], Bin)\n",
    "@variable(m, less2[1:R, 1:R, 1:K], Bin)\n",
    "@expression(m, d[k in 1:K], sum(dist_map[p, d] * mask[p, d, k] for p in 1:2R+1, d in 1:2R+1))\n",
    "\n",
    "@variable(m, temp[1:R, 1:R, 1:K], Bin)\n",
    "@variable(m, temp2[1:R, 1:R, 1:K], Bin)\n",
    "\n",
    "## Depot to pickup variables\n",
    "#@variable(m, sum1[1:R, 1:K]) ## Integer \n",
    "#@variable(m, sum2[1:R, 1:K])# Integer\n",
    "#@variable(m, temp3[1:R, 1:K], Bin)\n",
    "#@variable(m, temp4[1:R, 1:K], Bin)\n",
    "\n",
    "#for k = 1:K \n",
    "#    for r = 1:R\n",
    "#        @expression(m, sum1[r,k] = sum(x[i,k] for i in 1:r))\n",
    "        \n",
    "#    end\n",
    "#    for r = 1:R\n",
    "#        @constraint(m, sum1[r,k] - 1 <= R*temp3[r,k] - theta*(1-temp3[r,k]))) # R is the upper bound\n",
    "#    end\n",
    "#    for r = 1:R\n",
    "#        @expression(m, sum2[r,k] = sum(sum1[i,k] for i in 1:r))\n",
    "#       \n",
    "#    end\n",
    "#end\n",
    "        \n",
    "\n",
    "for r1 = 1:R-1\n",
    "    for r2 = (r1+1):R\n",
    "        for k = 1:K\n",
    "            @constraint(m, sum(x[r1:r2,k])-2 <= (R-2)*more2[r1, r2, k]-(1-more2[r1, r2, k]))\n",
    "            @constraint(m, sum(x[r1:r2,k])-2 >= (-2)*less2[r1, r2, k]+(1-less2[r1, r2, k]))\n",
    "        end\n",
    "    end\n",
    "end\n",
    "\n",
    "\n",
    "\n",
    "@constraint(m, constraint1[r in 1:R], sum(x[r, k] for k =1:K) == 1)\n",
    "\n",
    "for r = 1:R\n",
    "    for k = 1:K\n",
    "        @constraint(m, mask[2r, 2r+1, k] - 1 >= small_m3*(1 - x[r, k]))\n",
    "    end\n",
    "end\n",
    "\n",
    "for k = 1:K\n",
    "    @constraint(m, d[k] <= Big_M * y[k])\n",
    "    @constraint(m, d[k] >= small_m2 * (1 - y[k]) + epsilon*y[k])\n",
    "end\n",
    "\n",
    "for r1 = 1:R-1\n",
    "    for r2 = (r1+1):R\n",
    "        for k = 1:K\n",
    "            @constraint(m, p_t[r2] - d_t[r1] - dist_map[2*r2, 2*r1+1] >= small_m*(1 - x[r1, k]*x[r2, k]))\n",
    "            #@constraint(m, mask[2*r1+1, 2*r2, k] - 1 >= small_m3*(1 - (x[r1, k]*x[r2, k])))\n",
    "            @constraint(m, temp2[r1, r2, k] - 1 >= small_m3*(1 - (x[r1, k]*x[r2, k])))\n",
    "            @constraint(m, mask[2*r1+1, 2*r2, k] - 1 >= small_m3*(1 - temp[r1, r2, k]*temp2[r1, r2, k]))\n",
    "           \n",
    "            \n",
    "            @constraint(m, temp[r1, r2, k] - 1 >= small_m3*(1-more2[r1, r2, k]*less2[r1, r2, k]))\n",
    "            #@constraint(m, mask[2*r1+1, 2*r2, k] - 1 >= small_m3*(1-more2[r1, r2, k]*less2[r1, r2, k]))  ## hannah\n",
    "        end\n",
    "    end\n",
    "end\n",
    "\n",
    "for p_idx in 1:2R+1\n",
    "    for d_idx in 1:2R+1\n",
    "        @constraint(m, sum(mask[p_idx, d_idx, k] for k in 1:K) <= 1)\n",
    "    end\n",
    "end\n",
    "\n",
    "for k = 1:K\n",
    "    for p_idx in 1:2R+1\n",
    "        @constraint(m, sum(mask[p_idx, d_idx, k] for d_idx in 1:2R+1) <= 1)\n",
    "    end\n",
    "end\n",
    "\n",
    "@objective(m, Min, sum(lambda*y + d))\n",
    "\n",
    "status = solve(m)\n",
    "\n",
    "#println(m)\n",
    "println(status)\n",
    "println(\"Optimum = \", getobjectivevalue(m))\n",
    "println(\"y = \", getvalue(y))\n",
    "\n",
    "println(\"x = \")\n",
    "for r = 1:R\n",
    "    println(getvalue(x)[r, 1:K])\n",
    "end\n",
    "\n",
    "\n",
    "println(\"mask = \")\n",
    "mask_best = getvalue(mask)\n",
    "for k = 1:K\n",
    "    for p_idx in 1:2R+1\n",
    "        #println(mask_best[p_idx, 1:2R+1, k])\n",
    "    end\n",
    "    println(\"\")\n",
    "end\n",
    "println(\"d = \", getvalue(d))\n",
    "println(sum(getvalue(d)))"
   ]
  },
  {
   "cell_type": "code",
   "execution_count": 683,
   "metadata": {
    "scrolled": false
   },
   "outputs": [
    {
     "data": {
      "image/png": "[encoded data removed]",
      "text/plain": [
       "PyPlot.Figure(PyObject <matplotlib.figure.Figure object at 0x000000003F57FF28>)"
      ]
     },
     "metadata": {},
     "output_type": "display_data"
    }
   ],
   "source": [
    "#plot_car_route(requests, depot, getvalue(x))\n",
    "plot_car_route_v2(requests, depot, mask_best)"
   ]
  },
  {
   "cell_type": "code",
   "execution_count": 662,
   "metadata": {},
   "outputs": [
    {
     "data": {
      "text/plain": [
       "\"💧\""
      ]
     },
     "execution_count": 662,
     "metadata": {},
     "output_type": "execute_result"
    }
   ],
   "source": [
    "car = \"\\U0001F4A7\""
   ]
  },
  {
   "cell_type": "code",
   "execution_count": 211,
   "metadata": {},
   "outputs": [
    {
     "data": {
      "text/plain": [
       "\"💧\""
      ]
     },
     "execution_count": 211,
     "metadata": {},
     "output_type": "execute_result"
    }
   ],
   "source": [
    "car"
   ]
  },
  {
   "cell_type": "code",
   "execution_count": null,
   "metadata": {
    "collapsed": true,
    "scrolled": true
   },
   "outputs": [],
   "source": [
    "using PyCall, PyPlot\n",
    "@pyimport matplotlib.patches as mpatch\n",
    "@pyimport matplotlib.pyplot as mplt\n",
    "cfig = figure()\n",
    "bb = [[0.3, 0.4], [0.7, 0.6]]\n",
    "ax = cfig[:add_subplot](1,1,1)\n",
    "#ax = mplt.subplot(2, 2, 1)\n",
    "p_fancy = mpatch.FancyBboxPatch((3,4),\n",
    "                             1,1,\n",
    "                             boxstyle=\"Square,pad=0.1\",\n",
    "                            ec=\"k\", fc=\"w\", zorder=10.)\n",
    "\n",
    "ax[:add_artist](p_fancy)\n",
    "ylim(ymin = 0, ymax = 10)\n",
    "xlim(xmin = 0, xmax = 10)\n",
    "show()\n",
    "s = \"🚗\"\n",
    "#styles = mpatch.BoxStyle(\"Square\")\n",
    "#mpatch.FancyBboxPatch(1,3, 5, 5, boxstyle=\"round,pad=0.1\")\n",
    "text(3,5.5,s,fontsize=\"16\")\n",
    "show()\n",
    "#using UnicodeExtras\n",
    "#car = \"🚗\".encode(\"utf-8\")"
   ]
  },
  {
   "cell_type": "code",
   "execution_count": null,
   "metadata": {
    "collapsed": true
   },
   "outputs": [],
   "source": [
    "using PyCall\n",
    "using PyPlot\n",
    "@pyimport matplotlib.animation as anim# First set up the figure, the axis, and the plot element we want to animate\n",
    "fig = figure()\n",
    "ax = cfig[:add_subplot](1,1,1)\n",
    "#ax = PyPlot.axes(xlim=(0, 2), ylim=(-2, 2))\n",
    "global line = ax[:plot]([], [], lw=2)[1]\n",
    "\n",
    "# initialization function: plot the background of each frame\n",
    "function init()\n",
    "    global line\n",
    "    line[:set_data]([], [])\n",
    "    return (line,None)\n",
    "end\n",
    "# animation function.  This is called sequentially\n",
    "function animate(i)\n",
    "    x = linspace(0, 2, 1000)\n",
    "    y = sin(2 * pi * (x - 0.01 * i))\n",
    "    global line\n",
    "    line[:set_data](x, y)\n",
    "    return (line,None)\n",
    "end\n",
    "\n",
    "# call the animator.  blit=True means only re-draw the parts that have changed.\n",
    "myanim = anim.FuncAnimation(fig, animate, init_func=init,\n",
    "                               frames=100, interval=20, blit=true)\n",
    "fig.show()\n",
    "#myanim[:save](\"/tmp/sinplot.mp4\", extra_args=[\"-vcodec\", \"libx264\", \"-pix_fmt\", \"yuv420p\"])\n",
    "\n",
    "# call our new function to display the animation\n",
    "#display(\"text/html\", string(\"\"\"<video autoplay controls><source src=\"data:video/x-m4v;base64,\"\"\",\n",
    "                            base64(open(readbytes,\"/tmp/sinplot.mp4\")),\"\"\"\" type=\"video/mp4\"></video>\"\"\"))"
   ]
  }
 ],
 "metadata": {
  "kernelspec": {
   "display_name": "Julia 0.6.2",
   "language": "julia",
   "name": "julia-0.6"
  },
  "language_info": {
   "file_extension": ".jl",
   "mimetype": "application/julia",
   "name": "julia",
   "version": "0.6.2"
  }
 },
 "nbformat": 4,
 "nbformat_minor": 2
}
