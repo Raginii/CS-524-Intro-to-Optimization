{
 "cells": [
  {
   "cell_type": "code",
   "execution_count": 1,
   "metadata": {},
   "outputs": [],
   "source": [
    "using JuMP, NamedArrays"
   ]
  },
  {
   "cell_type": "code",
   "execution_count": 2,
   "metadata": {},
   "outputs": [
    {
     "data": {
      "text/plain": [
       "plot_Request_Time_Window (generic function with 1 method)"
      ]
     },
     "execution_count": 2,
     "metadata": {},
     "output_type": "execute_result"
    }
   ],
   "source": [
    "# Create a plot showing the request with the time window\n",
    "function plot_Request_Time_Window(passengers)\n",
    "    figure();\n",
    "    request_no = length(passengers)\n",
    "    drop_time_list = []\n",
    "\n",
    "    for i=1:request_no\n",
    "        p = passengers[i]\n",
    "        drop_time = p.pickup_time+p.duration\n",
    "        push!(drop_time_list, drop_time)\n",
    "        \n",
    "        # Randomly assign color to each request\n",
    "        r = hex(rand(16:255))\n",
    "        g = hex(rand(16:255))\n",
    "        b = hex(rand(16:255))\n",
    "        color_val = string(\"#\", r, g, b)\n",
    "        \n",
    "        hlines(y=i, xmin=p.pickup_time, xmax=drop_time, color=color_val)\n",
    "        plot(p.pickup_time, i, marker=\"o\", color=color_val)\n",
    "        plot(drop_time, i, marker=\"o\", color=color_val)\n",
    "        \n",
    "        time_stamp = string(\"T = \", p.pickup_time)\n",
    "        text(p.pickup_time, i + 0.1, time_stamp, fontsize=8)\n",
    "        time_stamp = string(\"T = \", drop_time)\n",
    "        text(drop_time, i - 0.2, time_stamp, fontsize=8) \n",
    "    end\n",
    "\n",
    "    PyPlot.yticks(1:request_no)\n",
    "    ax = gca()\n",
    "    ax[:set_xlim](passengers[1].pickup_time - 10, maximum(drop_time_list) + 20)\n",
    "    ax[:set_ylim]([0, request_no + 1])\n",
    "    title(\"Request vs Time\")\n",
    "    xlabel(\"Time\")\n",
    "    ylabel(\"Request #\")\n",
    "    grid(\"on\")\n",
    "end"
   ]
  },
  {
   "cell_type": "code",
   "execution_count": 3,
   "metadata": {},
   "outputs": [
    {
     "data": {
      "text/plain": [
       "rand_normalized_xy (generic function with 1 method)"
      ]
     },
     "execution_count": 3,
     "metadata": {},
     "output_type": "execute_result"
    }
   ],
   "source": [
    "using PyPlot\n",
    "WIDTH = 51 # odd number\n",
    "HEIGHT = 41 # odd number\n",
    "NRG = min(WIDTH, HEIGHT)\n",
    "\n",
    "type Passenger\n",
    "    pickup_pos::Tuple{Int64, Int64}\n",
    "    pickup_time::Int\n",
    "    dropoff_pos::Tuple{Int64, Int64}\n",
    "    duration::Int\n",
    "end\n",
    "type Driver\n",
    "    cur_pos::Tuple{Int64, Int64}\n",
    "end\n",
    "\n",
    "function manhattan_distance(a, b)\n",
    "    return sum(abs.([i for i in a]-[i for i in b]))\n",
    "end\n",
    "\n",
    "function rand_xy()\n",
    "   return (rand(1:WIDTH), rand(1:HEIGHT)) \n",
    "end\n",
    "\n",
    "\n",
    "function rand_normalized_xy()\n",
    "    pass_x = Int(round((randn()/6+0.5)*(NRG-1)+1))\n",
    "    pass_y = Int(round((randn()/6+0.5)*(NRG-1)+1))\n",
    "    if WIDTH > HEIGHT\n",
    "        pass_x += Int(round((WIDTH-HEIGHT)/2))\n",
    "    else\n",
    "        pass_y += Int(round((HEIGHT-WIDTH)/2))\n",
    "    end\n",
    "    return (pass_x, pass_y)\n",
    "end\n"
   ]
  },
  {
   "cell_type": "code",
   "execution_count": 4,
   "metadata": {},
   "outputs": [
    {
     "data": {
      "text/plain": [
       "plot_passenger_driver (generic function with 1 method)"
      ]
     },
     "execution_count": 4,
     "metadata": {},
     "output_type": "execute_result"
    }
   ],
   "source": [
    "function plot_passenger_driver(passengers, drivers)\n",
    "    ppxs = Int64[] # passenger pickup position x\n",
    "    ppys = Int64[] # passenger pickup position y\n",
    "    pdxs = Int64[] # passenger dropoff position x\n",
    "    pdys = Int64[] # passenger dropoff position y\n",
    "    dxs = Int64[] # driver current position x\n",
    "    dys = Int64[] # driver current position y\n",
    "    fig = figure(\"pyplot_scatterplot\",figsize=(15,15) )#(15,15*(HEIGHT/WIDTH)))\n",
    "    ax = axes()\n",
    "    for i=1:length(passengers)\n",
    "        p = passengers[i]\n",
    "        annotate(i, xy=[a for a in p.pickup_pos]-0.3)\n",
    "        annotate(i, xy=[a for a in p.dropoff_pos]-0.3)\n",
    "        push!(ppxs, p.pickup_pos[1])\n",
    "        push!(ppys, p.pickup_pos[2])\n",
    "        push!(pdxs, p.dropoff_pos[1])\n",
    "        push!(pdys, p.dropoff_pos[2])\n",
    "    end\n",
    "    for i=1:length(drivers)\n",
    "        d = drivers[i]\n",
    "        push!(dxs, d.cur_pos[1])\n",
    "        push!(dys, d.cur_pos[2])\n",
    "    end\n",
    "    scatter(ppxs,ppys,s=300,alpha=0.5,color=\"r\")\n",
    "    scatter(pdxs,pdys,s=300,alpha=0.5,color=\"g\")\n",
    "    scatter(dxs,dys,s=300,alpha=0.5,color=\"b\")\n",
    "    \n",
    "    title(\"Map\")\n",
    "    xlabel(\"X\");xlim([1,WIDTH])\n",
    "    ylabel(\"Y\");ylim([1,HEIGHT])\n",
    "    grid(\"on\")\n",
    "end\n"
   ]
  },
  {
   "cell_type": "code",
   "execution_count": 5,
   "metadata": {},
   "outputs": [
    {
     "data": {
      "text/plain": [
       "genGrid (generic function with 1 method)"
      ]
     },
     "execution_count": 5,
     "metadata": {},
     "output_type": "execute_result"
    }
   ],
   "source": [
    "function genGrid(n_passenger, n_driver)\n",
    "    passengers = Passenger[]\n",
    "    drivers = Driver[]\n",
    "    ptime = sort(rand(50:200,n_passenger))\n",
    "    for i=1:n_passenger\n",
    "        ppos = rand_xy()\n",
    "        dpos = rand_xy()\n",
    "        p = Passenger(ppos, ptime[i], dpos, manhattan_distance(ppos,dpos))\n",
    "        push!(passengers, p)\n",
    "    end\n",
    "    for i=1:n_driver\n",
    "        d = Driver((Int((WIDTH+1)/2), Int((HEIGHT+1)/2)))\n",
    "        push!(drivers, d)\n",
    "    end\n",
    "    plot_passenger_driver(passengers, drivers)\n",
    "    for p in passengers\n",
    "        println(p)\n",
    "    end\n",
    "    plot_Request_Time_Window(passengers)\n",
    "    return passengers,drivers\n",
    "end"
   ]
  },
  {
   "cell_type": "code",
   "execution_count": 7,
   "metadata": {},
   "outputs": [
    {
     "data": {
      "text/plain": [
       "getLocations (generic function with 1 method)"
      ]
     },
     "execution_count": 7,
     "metadata": {},
     "output_type": "execute_result"
    }
   ],
   "source": [
    "# Function to Get the coordinates of all depot and pickup, drop locations of requests (in order of request)\n",
    "# Can be modified to be called within distance matrix\n",
    "\n",
    "function getLocations(depot, requests)\n",
    "    nodes = []\n",
    "    for d in depot             # Right now, considering only single depot.\n",
    "        depot_node = d.cur_pos\n",
    "        push!(nodes, depot_node)\n",
    "    end\n",
    "\n",
    "    for r in requests\n",
    "        push!(nodes, r.pickup_pos)\n",
    "        push!(nodes, r.dropoff_pos)\n",
    "    end\n",
    "    return nodes\n",
    "end"
   ]
  },
  {
   "cell_type": "markdown",
   "metadata": {},
   "source": [
    "# Generating distance matrix "
   ]
  },
  {
   "cell_type": "code",
   "execution_count": 9,
   "metadata": {},
   "outputs": [
    {
     "data": {
      "text/plain": [
       "distance_matrix (generic function with 1 method)"
      ]
     },
     "execution_count": 9,
     "metadata": {},
     "output_type": "execute_result"
    }
   ],
   "source": [
    "# Generating distance matrix.\n",
    " \n",
    "function distance_matrix(nodes, numReq)\n",
    "    \n",
    "    # Creating names for nodes\n",
    "    numReq = length(requests)\n",
    "    points = []\n",
    "    i = 0\n",
    "    push!(points,\"Depot\")\n",
    "    for r in 1:numReq\n",
    "        i = i+1\n",
    "        pickup = string(\"P_\",i)\n",
    "        drop = string(\"D_\",i)\n",
    "        push!(points,pickup)\n",
    "        push!(points,drop)\n",
    "    end\n",
    "    println(points)\n",
    "\n",
    "    # Compute distance matrix for the Agencies\n",
    "    pointA = nodes\n",
    "    pointB = copy(nodes)\n",
    "\n",
    "    nodeLen = length(nodes) # nodes include pickup, dropoff and depot\n",
    "\n",
    "    D = zeros(nodeLen,nodeLen)\n",
    "\n",
    "    for j = 1:nodeLen\n",
    "            for i = 1:nodeLen\n",
    "                D[i, j] = abs(pointA[j][1] - pointB[i][1]) + abs(pointA[j][2] - pointB[i][2])\n",
    "            end\n",
    "    end\n",
    "    #println(\"Distance matrix : \",D)\n",
    "    println(\"\")\n",
    "\n",
    "    dist_matrix =  NamedArray(D,(points,points),(\"From\",\"To\"))\n",
    "    show(IOContext(STDOUT, displaysize=(2000, 2000)), dist_matrix)\n",
    "    points\n",
    "    return dist_matrix\n",
    "end"
   ]
  },
  {
   "cell_type": "code",
   "execution_count": 265,
   "metadata": {},
   "outputs": [
    {
     "data": {
      "text/plain": [
       "plot_car_route (generic function with 2 methods)"
      ]
     },
     "execution_count": 265,
     "metadata": {},
     "output_type": "execute_result"
    }
   ],
   "source": [
    "function plot_car_route(passengers, drivers, x_request_to_cab)\n",
    "    ppxs = Int64[] # passenger pickup position x\n",
    "    ppys = Int64[] # passenger pickup position y\n",
    "    pdxs = Int64[] # passenger dropoff position x\n",
    "    pdys = Int64[] # passenger dropoff position y\n",
    "    dxs = Int64[] # driver current position x\n",
    "    dys = Int64[] # driver current position y\n",
    "    fig = figure(\"pyplot_scatterplot\",figsize=(15,15) )#(15,15*(HEIGHT/WIDTH)))\n",
    "    ax = axes()\n",
    "    for i=1:length(passengers)\n",
    "        p = passengers[i]\n",
    "        annotate(i, xy=[a for a in p.pickup_pos]-0.3)\n",
    "        annotate(i, xy=[a for a in p.dropoff_pos]-0.3)\n",
    "        push!(ppxs, p.pickup_pos[1])\n",
    "        push!(ppys, p.pickup_pos[2])\n",
    "        push!(pdxs, p.dropoff_pos[1])\n",
    "        push!(pdys, p.dropoff_pos[2])\n",
    "    end\n",
    "    for i=1:length(drivers)\n",
    "        d = drivers[i]\n",
    "        push!(dxs, d.cur_pos[1])\n",
    "        push!(dys, d.cur_pos[2])\n",
    "    end\n",
    "    scatter(ppxs,ppys,s=300,alpha=0.5,color=\"r\")\n",
    "    scatter(pdxs,pdys,s=300,alpha=0.5,color=\"g\")\n",
    "    scatter(dxs,dys,s=300,alpha=0.5,color=\"b\")\n",
    "    \n",
    "    # Plost route line for each cab\n",
    "    for k = 1:K\n",
    "        # Randomly assign color to each request\n",
    "        r = hex(rand(16:255))\n",
    "        g = hex(rand(16:255))\n",
    "        b = hex(rand(16:255))\n",
    "        color_val = string(\"#\", r, g, b)\n",
    "        \n",
    "        for r = 1:R\n",
    "            if x_request_to_cab[r, k] > 0\n",
    "                request = passengers[r]\n",
    "                \n",
    "                pp_x = request.pickup_pos[1]\n",
    "                pp_y = request.pickup_pos[2]\n",
    "                dp_x = request.dropoff_pos[1]\n",
    "                dp_y = request.dropoff_pos[2]\n",
    "                hlines(y=pp_y, xmin=pp_x, xmax=dp_x, color=color_val)\n",
    "                vlines(x=dp_x, ymin=pp_y, ymax=dp_y, color=color_val)\n",
    "                \n",
    "                time_stamp = string(\"[Cab #\", k, \"]\")\n",
    "                if dp_y > pp_y\n",
    "                    plot(dp_x, dp_y, marker=\"^\", color=color_val, markersize = 20)\n",
    "                    text(dp_x+.5, dp_y+.5, time_stamp, fontsize=16, color=color_val)\n",
    "                elseif dp_y < pp_y\n",
    "                    plot(dp_x, dp_y, marker=\"v\", color=color_val, markersize = 20)\n",
    "                    text(dp_x+.5, dp_y+.5, time_stamp, fontsize=16, color=color_val)\n",
    "                elseif dp_y == pp_y && dp_x < pp_x\n",
    "                    plot(dp_x, dp_y, marker=\"<\", color=color_val, markersize = 20)\n",
    "                    text(dp_x+.5, dp_y+.5, time_stamp, fontsize=16, color=color_val)\n",
    "                elseif dp_y == pp_y && dp_x > pp_x\n",
    "                    plot(dp_x, dp_y, marker=\">\", color=color_val, markersize = 20)\n",
    "                    text(dp_x+.5, dp_y+.5, time_stamp, fontsize=16, color=color_val)\n",
    "                end\n",
    "            end\n",
    "        end\n",
    "    end\n",
    "    \n",
    "    title(\"Map\")\n",
    "    xlabel(\"X\");xlim([1,WIDTH])\n",
    "    ylabel(\"Y\");ylim([1,HEIGHT])\n",
    "    grid(\"on\")\n",
    "end"
   ]
  },
  {
   "cell_type": "code",
   "execution_count": 397,
   "metadata": {},
   "outputs": [
    {
     "data": {
      "text/plain": [
       "plot_car_route_v2 (generic function with 1 method)"
      ]
     },
     "execution_count": 397,
     "metadata": {},
     "output_type": "execute_result"
    }
   ],
   "source": [
    "function plot_car_route_v2(passengers, drivers, mask)    \n",
    "    ppxs = Int64[] # passenger pickup position x\n",
    "    ppys = Int64[] # passenger pickup position y\n",
    "    pdxs = Int64[] # passenger dropoff position x\n",
    "    pdys = Int64[] # passenger dropoff position y\n",
    "    dxs = Int64[] # driver current position x\n",
    "    dys = Int64[] # driver current position y\n",
    "    fig = figure(\"pyplot_scatterplot\",figsize=(15,15) )#(15,15*(HEIGHT/WIDTH)))\n",
    "    ax = axes()\n",
    "    for i=1:length(passengers)\n",
    "        p = passengers[i]\n",
    "        annotate(i, xy=[a for a in p.pickup_pos]-0.3)\n",
    "        annotate(i, xy=[a for a in p.dropoff_pos]-0.3)\n",
    "        push!(ppxs, p.pickup_pos[1])\n",
    "        push!(ppys, p.pickup_pos[2])\n",
    "        push!(pdxs, p.dropoff_pos[1])\n",
    "        push!(pdys, p.dropoff_pos[2])\n",
    "    end\n",
    "    for i=1:length(drivers)\n",
    "        d = drivers[i]\n",
    "        push!(dxs, d.cur_pos[1])\n",
    "        push!(dys, d.cur_pos[2])\n",
    "    end\n",
    "    scatter(ppxs,ppys,s=300,alpha=0.5,color=\"r\")\n",
    "    scatter(pdxs,pdys,s=300,alpha=0.5,color=\"g\")\n",
    "    scatter(dxs,dys,s=300,alpha=0.5,color=\"b\")\n",
    "    \n",
    "    # Plost route line for each cab\n",
    "    for k = 1:K\n",
    "        # Randomly assign color to each request\n",
    "        r = hex(rand(16:255))\n",
    "        g = hex(rand(16:255))\n",
    "        b = hex(rand(16:255))\n",
    "        color_val = string(\"#\", r, g, b)\n",
    "        \n",
    "        \n",
    "        for p = 1:2R+1\n",
    "            for d = 1:2R+1\n",
    "\n",
    "                if mask[p, d, k] > 0\n",
    "                    if p+1 == d && p%2 == 0\n",
    "                        request = passengers[Int8(round(p/2))]\n",
    "\n",
    "                        pp_x = request.pickup_pos[1]\n",
    "                        pp_y = request.pickup_pos[2]\n",
    "                        dp_x = request.dropoff_pos[1]\n",
    "                        dp_y = request.dropoff_pos[2]\n",
    "                        \n",
    "                        hlines(y=pp_y, xmin=pp_x, xmax=dp_x, color=color_val)\n",
    "                        vlines(x=dp_x, ymin=pp_y, ymax=dp_y, color=color_val)\n",
    "                    else\n",
    "                        start_between_req = passengers[Int8(round((p-1)/2))]\n",
    "                        end_between_req = passengers[Int8(round(d/2))]\n",
    "                        \n",
    "                        pp_x = start_between_req.dropoff_pos[1]\n",
    "                        pp_y = start_between_req.dropoff_pos[2]   \n",
    "                        dp_x = end_between_req.pickup_pos[1]\n",
    "                        dp_y = end_between_req.pickup_pos[2]\n",
    "                        \n",
    "                        x_min = minimum([pp_x, dp_x])\n",
    "                        x_max = maximum([pp_x, dp_x])\n",
    "                        x_range = x_min:x_max; y_range = pp_y*ones(length(x_range))\n",
    "                        plot(x_range, y_range, color=color_val, linestyle=\"--\")\n",
    "                        \n",
    "                        y_min = minimum([pp_y, dp_y])\n",
    "                        y_max = maximum([pp_y, dp_y])\n",
    "                        y_range = y_min:y_max; x_range = dp_x*ones(length(y_range))\n",
    "                        plot(x_range, y_range, color=color_val, linestyle=\"--\")\n",
    "                    end\n",
    "                    \n",
    "                    time_stamp = string(\"[Cab #\", k, \"]\")\n",
    "                    if dp_y > pp_y\n",
    "                        plot(dp_x, dp_y, marker=\"^\", color=color_val, markersize = 20)\n",
    "                        text(dp_x+.5, dp_y+.5, time_stamp, fontsize=16, color=color_val)\n",
    "                    elseif dp_y < pp_y\n",
    "                        plot(dp_x, dp_y, marker=\"v\", color=color_val, markersize = 20)\n",
    "                        text(dp_x+.5, dp_y+.5, time_stamp, fontsize=16, color=color_val)\n",
    "                    elseif dp_y == pp_y && dp_x < pp_x\n",
    "                        plot(dp_x, dp_y, marker=\"<\", color=color_val, markersize = 20)\n",
    "                        text(dp_x+.5, dp_y+.5, time_stamp, fontsize=16, color=color_val)\n",
    "                    elseif dp_y == pp_y && dp_x > pp_x\n",
    "                        plot(dp_x, dp_y, marker=\">\", color=color_val, markersize = 20)\n",
    "                        text(dp_x+.5, dp_y+.5, time_stamp, fontsize=16, color=color_val)\n",
    "                    end\n",
    "                end\n",
    "                \n",
    "            end\n",
    "        end\n",
    "    end\n",
    "    \n",
    "    title(\"Map\")\n",
    "    xlabel(\"X\");xlim([1,WIDTH])\n",
    "    ylabel(\"Y\");ylim([1,HEIGHT])\n",
    "    grid(\"on\")\n",
    "end"
   ]
  },
  {
   "cell_type": "markdown",
   "metadata": {},
   "source": [
    "# VRP Model Test"
   ]
  },
  {
   "cell_type": "code",
   "execution_count": 449,
   "metadata": {
    "scrolled": false
   },
   "outputs": [
    {
     "name": "stdout",
     "output_type": "stream",
     "text": [
      "Passenger((26, 38), 50, (41, 26), 27)\n",
      "Passenger((17, 9), 77, (26, 32), 32)\n",
      "Passenger((10, 18), 111, (2, 1), 25)\n",
      "Passenger((23, 12), 136, (15, 14), 10)\n",
      "Passenger((42, 8), 169, (47, 34), 31)\n",
      "Any"
     ]
    },
    {
     "data": {
      "image/png": "[encoded data removed]",
      "text/plain": [
       "PyPlot.Figure(PyObject <matplotlib.figure.Figure object at 0x13dbb9a10>)"
      ]
     },
     "metadata": {},
     "output_type": "display_data"
    },
    {
     "data": {
      "image/png": "[encoded data removed]",
      "text/plain": [
       "PyPlot.Figure(PyObject <matplotlib.figure.Figure object at 0x13ed92b10>)"
      ]
     },
     "metadata": {},
     "output_type": "display_data"
    },
    {
     "name": "stdout",
     "output_type": "stream",
     "text": [
      "[\"Depot\", \"P_1\", \"D_1\", \"P_2\", \"D_2\", \"P_3\", \"D_3\", \"P_4\", \"D_4\", \"P_5\", \"D_5\"]\n",
      "\n",
      "11×11 Named Array{Float64,2}\n",
      "From ╲ To │ Depot    P_1    D_1    P_2    D_2    P_3    D_3    P_4    D_4    P_5    D_5\n",
      "──────────┼────────────────────────────────────────────────────────────────────────────\n",
      "Depot     │   0.0   17.0   20.0   21.0   11.0   19.0   44.0   12.0   18.0   29.0   34.0\n",
      "P_1       │  17.0    0.0   27.0   38.0    6.0   36.0   61.0   29.0   35.0   46.0   25.0\n",
      "D_1       │  20.0   27.0    0.0   41.0   21.0   39.0   64.0   32.0   38.0   19.0   14.0\n",
      "P_2       │  21.0   38.0   41.0    0.0   32.0   16.0   23.0    9.0    7.0   26.0   55.0\n",
      "D_2       │  11.0    6.0   21.0   32.0    0.0   30.0   55.0   23.0   29.0   40.0   23.0\n",
      "P_3       │  19.0   36.0   39.0   16.0   30.0    0.0   25.0   19.0    9.0   42.0   53.0\n",
      "D_3       │  44.0   61.0   64.0   23.0   55.0   25.0    0.0   32.0   26.0   47.0   78.0\n",
      "P_4       │  12.0   29.0   32.0    9.0   23.0   19.0   32.0    0.0   10.0   23.0   46.0\n",
      "D_4       │  18.0   35.0   38.0    7.0   29.0    9.0   26.0   10.0    0.0   33.0   52.0\n",
      "P_5       │  29.0   46.0   19.0   26.0   40.0   42.0   47.0   23.0   33.0    0.0   31.0\n",
      "D_5       │  34.0   25.0   14.0   55.0   23.0   53.0   78.0   46.0   52.0   31.0    0.0\n",
      "Passenger((26, 38), 50, (41, 26), 27)\n",
      "Passenger((17, 9), 77, (26, 32), 32)\n",
      "Passenger((10, 18), 111, (2, 1), 25)\n",
      "Passenger((23, 12), 136, (15, 14), 10)\n",
      "Passenger((42, 8), 169, (47, 34), 31)\n",
      "\n",
      "pickup time = Any[50, 77, 111, 136, 169]\n",
      "pickup location = Any[(26, 38), (17, 9), (10, 18), (23, 12), (42, 8)]\n",
      "dropoff time = Any[77, 109, 136, 146, 200]\n",
      "dropoff location = Any[(41, 26), (26, 32), (2, 1), (15, 14), (47, 34)]\n",
      "duration = Any[27, 32, 25, 10, 31]\n"
     ]
    }
   ],
   "source": [
    "# Parameter\n",
    "R = 5 # Number of requests\n",
    "requests, depot = genGrid(R, 1)\n",
    "nodes = getLocations(depot, requests)\n",
    "dist_map = distance_matrix(nodes, length(requests));\n",
    "\n",
    "p_t = []\n",
    "p_l = []\n",
    "d_t = []\n",
    "d_l = []\n",
    "duration = []\n",
    "\n",
    "println(\"\")\n",
    "for r = 1:R\n",
    "    println(requests[r])\n",
    "    push!(p_t, requests[r].pickup_time)\n",
    "    push!(p_l, requests[r].pickup_pos)\n",
    "    push!(d_t, requests[r].pickup_time + requests[r].duration)\n",
    "    push!(d_l, requests[r].dropoff_pos)\n",
    "    push!(duration, requests[r].duration)\n",
    "end\n",
    "\n",
    "println(\"\")\n",
    "println(\"pickup time = \", p_t)\n",
    "println(\"pickup location = \", p_l)\n",
    "println(\"dropoff time = \", d_t)\n",
    "println(\"dropoff location = \", d_l)\n",
    "println(\"duration = \", duration)"
   ]
  },
  {
   "cell_type": "code",
   "execution_count": 450,
   "metadata": {
    "scrolled": false
   },
   "outputs": [
    {
     "name": "stdout",
     "output_type": "stream",
     "text": [
      "small_m = -228.0\n",
      "Big_M = 3380.0\n",
      "Academic license - for non-commercial use only\n",
      "Optimal\n",
      "Optimum = 467.0\n",
      "y = [1.0, 1.0, 1.0, 0.0, 0.0]\n",
      "x = \n",
      "[0.0, 1.0, 0.0, 0.0, 0.0]\n",
      "[1.0, 0.0, 0.0, 0.0, 0.0]\n",
      "[0.0, 0.0, 1.0, 0.0, 0.0]\n",
      "[1.0, 0.0, 0.0, 0.0, 0.0]\n",
      "[0.0, 1.0, 0.0, 0.0, 0.0]\n",
      "mask = \n",
      "[0.0, 0.0, 0.0, 0.0, 0.0, 0.0, 0.0, 0.0, 0.0, 0.0, 0.0]\n",
      "[0.0, 0.0, 0.0, 0.0, 0.0, 0.0, 0.0, 0.0, 0.0, 0.0, 0.0]\n",
      "[0.0, 0.0, 0.0, 0.0, 0.0, 0.0, 0.0, 0.0, 0.0, 0.0, 0.0]\n",
      "[0.0, 0.0, 0.0, 0.0, 1.0, 0.0, 0.0, 0.0, 0.0, 0.0, 0.0]\n",
      "[0.0, 0.0, 0.0, 0.0, 0.0, 0.0, 0.0, 1.0, 0.0, 0.0, 0.0]\n",
      "[0.0, 0.0, 0.0, 0.0, 0.0, 0.0, 0.0, 0.0, 0.0, 0.0, 0.0]\n",
      "[0.0, 0.0, 0.0, 0.0, 0.0, 0.0, 0.0, 0.0, 0.0, 0.0, 0.0]\n",
      "[0.0, 0.0, 0.0, 0.0, 0.0, 0.0, 0.0, 0.0, 1.0, 0.0, 0.0]\n",
      "[0.0, 0.0, 0.0, 0.0, 0.0, 0.0, 0.0, 0.0, 0.0, 0.0, 0.0]\n",
      "[0.0, 0.0, 0.0, 0.0, 0.0, 0.0, 0.0, 0.0, 0.0, 0.0, 0.0]\n",
      "[0.0, 0.0, 0.0, 0.0, 0.0, 0.0, 0.0, 0.0, 0.0, 0.0, 0.0]\n",
      "\n",
      "[0.0, 0.0, 0.0, 0.0, 0.0, 0.0, 0.0, 0.0, 0.0, 0.0, 0.0]\n",
      "[0.0, 0.0, 1.0, 0.0, 0.0, 0.0, 0.0, 0.0, 0.0, 0.0, 0.0]\n",
      "[0.0, 0.0, 0.0, 0.0, 0.0, 0.0, 0.0, 0.0, 0.0, 1.0, 0.0]\n",
      "[0.0, 0.0, 0.0, 0.0, 0.0, 0.0, 0.0, 0.0, 0.0, 0.0, 0.0]\n",
      "[0.0, 0.0, 0.0, 0.0, 0.0, 0.0, 0.0, 0.0, 0.0, 0.0, 0.0]\n",
      "[0.0, 0.0, 0.0, 0.0, 0.0, 0.0, 0.0, 0.0, 0.0, 0.0, 0.0]\n",
      "[0.0, 0.0, 0.0, 0.0, 0.0, 0.0, 0.0, 0.0, 0.0, 0.0, 0.0]\n",
      "[0.0, 0.0, 0.0, 0.0, 0.0, 0.0, 0.0, 0.0, 0.0, 0.0, 0.0]\n",
      "[0.0, 0.0, 0.0, 0.0, 0.0, 0.0, 0.0, 0.0, 0.0, 0.0, 0.0]\n",
      "[0.0, 0.0, 0.0, 0.0, 0.0, 0.0, 0.0, 0.0, 0.0, 0.0, 1.0]\n",
      "[0.0, 0.0, 0.0, 0.0, 0.0, 0.0, 0.0, 0.0, 0.0, 0.0, 0.0]\n",
      "\n",
      "[0.0, 0.0, 0.0, 0.0, 0.0, 0.0, 0.0, 0.0, 0.0, 0.0, 0.0]\n",
      "[0.0, 0.0, 0.0, 0.0, 0.0, 0.0, 0.0, 0.0, 0.0, 0.0, 0.0]\n",
      "[0.0, 0.0, 0.0, 0.0, 0.0, 0.0, 0.0, 0.0, 0.0, 0.0, 0.0]\n",
      "[0.0, 0.0, 0.0, 0.0, 0.0, 0.0, 0.0, 0.0, 0.0, 0.0, 0.0]\n",
      "[0.0, 0.0, 0.0, 0.0, 0.0, 0.0, 0.0, 0.0, 0.0, 0.0, 0.0]\n",
      "[0.0, 0.0, 0.0, 0.0, 0.0, 0.0, 1.0, 0.0, 0.0, 0.0, 0.0]\n",
      "[0.0, 0.0, 0.0, 0.0, 0.0, 0.0, 0.0, 0.0, 0.0, 0.0, 0.0]\n",
      "[0.0, 0.0, 0.0, 0.0, 0.0, 0.0, 0.0, 0.0, 0.0, 0.0, 0.0]\n",
      "[0.0, 0.0, 0.0, 0.0, 0.0, 0.0, 0.0, 0.0, 0.0, 0.0, 0.0]\n",
      "[0.0, 0.0, 0.0, 0.0, 0.0, 0.0, 0.0, 0.0, 0.0, 0.0, 0.0]\n",
      "[0.0, 0.0, 0.0, 0.0, 0.0, 0.0, 0.0, 0.0, 0.0, 0.0, 0.0]\n",
      "\n",
      "[0.0, 0.0, 0.0, 0.0, 0.0, 0.0, 0.0, 0.0, 0.0, 0.0, 0.0]\n",
      "[0.0, 0.0, 0.0, 0.0, 0.0, 0.0, 0.0, 0.0, 0.0, 0.0, 0.0]\n",
      "[0.0, 0.0, 0.0, 0.0, 0.0, 0.0, 0.0, 0.0, 0.0, 0.0, 0.0]\n",
      "[0.0, 0.0, 0.0, 0.0, 0.0, 0.0, 0.0, 0.0, 0.0, 0.0, 0.0]\n",
      "[0.0, 0.0, 0.0, 0.0, 0.0, 0.0, 0.0, 0.0, 0.0, 0.0, 0.0]\n",
      "[0.0, 0.0, 0.0, 0.0, 0.0, 0.0, 0.0, 0.0, 0.0, 0.0, 0.0]\n",
      "[0.0, 0.0, 0.0, 0.0, 0.0, 0.0, 0.0, 0.0, 0.0, 0.0, 0.0]\n",
      "[0.0, 0.0, 0.0, 0.0, 0.0, 0.0, 0.0, 0.0, 0.0, 0.0, 0.0]\n",
      "[0.0, 0.0, 0.0, 0.0, 0.0, 0.0, 0.0, 0.0, 0.0, 0.0, 0.0]\n",
      "[0.0, 0.0, 0.0, 0.0, 0.0, 0.0, 0.0, 0.0, 0.0, 0.0, 0.0]\n",
      "[0.0, 0.0, 0.0, 0.0, 0.0, 0.0, 0.0, 0.0, 0.0, 0.0, 0.0]\n",
      "\n",
      "[0.0, 0.0, 0.0, 0.0, 0.0, 0.0, 0.0, 0.0, 0.0, 0.0, 0.0]\n",
      "[0.0, 0.0, 0.0, 0.0, 0.0, 0.0, 0.0, 0.0, 0.0, 0.0, 0.0]\n",
      "[0.0, 0.0, 0.0, 0.0, 0.0, 0.0, 0.0, 0.0, 0.0, 0.0, 0.0]\n",
      "[0.0, 0.0, 0.0, 0.0, 0.0, 0.0, 0.0, 0.0, 0.0, 0.0, 0.0]\n",
      "[0.0, 0.0, 0.0, 0.0, 0.0, 0.0, 0.0, 0.0, 0.0, 0.0, 0.0]\n",
      "[0.0, 0.0, 0.0, 0.0, 0.0, 0.0, 0.0, 0.0, 0.0, 0.0, 0.0]\n",
      "[0.0, 0.0, 0.0, 0.0, 0.0, 0.0, 0.0, 0.0, 0.0, 0.0, 0.0]\n",
      "[0.0, 0.0, 0.0, 0.0, 0.0, 0.0, 0.0, 0.0, 0.0, 0.0, 0.0]\n",
      "[0.0, 0.0, 0.0, 0.0, 0.0, 0.0, 0.0, 0.0, 0.0, 0.0, 0.0]\n",
      "[0.0, 0.0, 0.0, 0.0, 0.0, 0.0, 0.0, 0.0, 0.0, 0.0, 0.0]\n",
      "[0.0, 0.0, 0.0, 0.0, 0.0, 0.0, 0.0, 0.0, 0.0, 0.0, 0.0]\n",
      "\n",
      "d = [65.0, 77.0, 25.0, 0.0, 0.0]\n"
     ]
    }
   ],
   "source": [
    "K = 5 # Number of cabs\n",
    "small_m = minimum(p_t) - maximum(d_t) - maximum(dist_map)\n",
    "println(\"small_m = \", small_m)\n",
    "Big_M = sum(dist_map)\n",
    "println(\"Big_M = \", Big_M)\n",
    "epsilon = 1\n",
    "small_m2 = 0\n",
    "small_m3 = -1\n",
    "lambda = 100 # Weighting of the cab number\n",
    "\n",
    "using JuMP, Gurobi\n",
    "\n",
    "m = Model(solver=GurobiSolver(OutputFlag=0))\n",
    "@variable(m, y[1:K], Bin) # if the cab is dispatched or not\n",
    "@variable(m, x[1:R, 1:K], Bin) # if the request is assigned to the cab or not\n",
    "@variable(m, mask[1:2R+1, 1:2R+1, 1:K], Bin) # Given one cab, if the node p to node d is connected or not\n",
    " # Show the total travel distance of each cab\n",
    "@expression(m, d[k in 1:K], sum(dist_map[p, d] * mask[p, d, k] for p in 1:2R+1, d in 1:2R+1))\n",
    "\n",
    "# Must dispatch one cab to each request\n",
    "@constraint(m, constraint1[r in 1:R], sum(x[r, k] for k =1:K) == 1)\n",
    "\n",
    "for r = 1:R\n",
    "    for k = 1:K\n",
    "        # if x[r, k] == 1 => mask[2r, 2r+1, k] == 1\n",
    "        @constraint(m, mask[2r, 2r+1, k] - 1 >= small_m3*(1 - x[r, k]))\n",
    "    end\n",
    "end\n",
    "\n",
    "for k = 1:K\n",
    "    # if y[k] == 0 => d[k] == 0\n",
    "    @constraint(m, d[k] <= Big_M * y[k])\n",
    "    \n",
    "    # if y[k] == 1 => d[k] > 0\n",
    "    @constraint(m, d[k] >= small_m2 * (1 - y[k]) + epsilon*y[k])\n",
    "    \n",
    "    # Dispatch cabs from the smallest number\n",
    "    if k < K\n",
    "        @constraint(m, y[k] >= y[k+1])\n",
    "    end\n",
    "end\n",
    "\n",
    "for r1 = 1:R-1\n",
    "    for r2 = (r1+1):R\n",
    "        for k = 1:K\n",
    "            # if x[r1, k]*x[r2, k] == 1 => p_t[r2] >= d_t[r1] + dist_map[2*r2, 2*r1+1]\n",
    "            @constraint(m, p_t[r2] - d_t[r1] - dist_map[2*r2, 2*r1+1] >= small_m*(1 - x[r1, k]*x[r2, k]))\n",
    "            \n",
    "            # if x[r1, k]*x[r2, k] == 1 => mask[2*r1+1, 2*r2, k] == 1\n",
    "            # [Issue!] When more than 2 requests are assigned to one cab\n",
    "            @constraint(m, mask[2*r1+1, 2*r2, k] - 1 >= small_m3*(1 - x[r1, k]*x[r2, k]))\n",
    "        end\n",
    "    end\n",
    "end\n",
    "\n",
    "for p_idx in 1:2R+1\n",
    "    for d_idx in 1:2R+1\n",
    "        # At most 1 cab can be assigned to each travel route between 2 nodes\n",
    "        @constraint(m, sum(mask[p_idx, d_idx, k] for k in 1:K) <= 1)\n",
    "    end\n",
    "end\n",
    "\n",
    "for k = 1:K\n",
    "    for p_idx in 1:2R+1\n",
    "        # Given one cab and one starting node, at most one ending node can be assigned\n",
    "        @constraint(m, sum(mask[p_idx, d_idx, k] for d_idx in 1:2R+1) <= 1)\n",
    "    end\n",
    "end\n",
    "\n",
    "# Minimize: the number of dispatched cabs + the total travel distances by dispatched cabs\n",
    "@objective(m, Min, sum(lambda*y + d))\n",
    "\n",
    "status = solve(m)\n",
    "\n",
    "#println(m)\n",
    "println(status)\n",
    "println(\"Optimum = \", getobjectivevalue(m))\n",
    "println(\"y = \", getvalue(y))\n",
    "\n",
    "println(\"x = \")\n",
    "for r = 1:R\n",
    "    println(getvalue(x)[r, 1:K])\n",
    "end\n",
    "\n",
    "println(\"mask = \")\n",
    "mask_best = getvalue(mask)\n",
    "for k = 1:K\n",
    "    for p_idx in 1:2R+1\n",
    "        println(mask_best[p_idx, 1:2R+1, k])\n",
    "    end\n",
    "    println(\"\")\n",
    "end\n",
    "println(\"d = \", getvalue(d))"
   ]
  },
  {
   "cell_type": "code",
   "execution_count": 452,
   "metadata": {
    "scrolled": false
   },
   "outputs": [
    {
     "data": {
      "image/png": "[encoded data removed]",
      "text/plain": [
       "PyPlot.Figure(PyObject <matplotlib.figure.Figure object at 0x13d1485d0>)"
      ]
     },
     "metadata": {},
     "output_type": "display_data"
    }
   ],
   "source": [
    "#plot_car_route(requests, depot, getvalue(x))\n",
    "plot_car_route_v2(requests, depot, mask_best)"
   ]
  },
  {
   "cell_type": "code",
   "execution_count": null,
   "metadata": {},
   "outputs": [],
   "source": []
  }
 ],
 "metadata": {
  "kernelspec": {
   "display_name": "Julia 0.6.2",
   "language": "julia",
   "name": "julia-0.6"
  },
  "language_info": {
   "file_extension": ".jl",
   "mimetype": "application/julia",
   "name": "julia",
   "version": "0.6.2"
  }
 },
 "nbformat": 4,
 "nbformat_minor": 2
}
